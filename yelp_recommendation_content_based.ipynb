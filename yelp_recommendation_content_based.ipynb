{
 "cells": [
  {
   "cell_type": "markdown",
   "metadata": {
    "id": "qqTi5Fml2-yA"
   },
   "source": [
    "# Yelp Restaurant Recommendation System\n",
    "\n",
    "---------------\n",
    "## Context\n",
    "---------------\n",
    "\n",
    "Yelp Inc. is an American company that develops the Yelp.com website and the Yelp mobile app, which publish crowd-sourced reviews about businesses. It also operates Yelp Guest Manager, a table reservation service. It is headquartered in San Francisco, California.Yelp was founded in 2004 by former PayPal employees Russel Simmons and Jeremy Stoppelman. Yelp grew in usage and raised several rounds of funding in the following years.Today, the website and their mobile application publish crowd-sourced reviews about local businesses as well as certain metadata about them that can help in customer's **decision-making process**.Yelp uses automated software to recommend the **most helpful** and **reliable reviews** for the Yelp community from such a large and diverse dataset.\n",
    "\n",
    "This dataset is a subset of Yelp's businesses, reviews, and user data. It was originally put together for the Yelp Dataset Challenge which is a chance for students to conduct research or analysis on Yelp's data and share their discoveries. In the most recent dataset you'll find information about businesses across 8 metropolitan areas in the USA and Canada.\n",
    "\n",
    "-----------------\n",
    "## Objective\n",
    "-----------------\n",
    "\n",
    "In this case study, we will build three types of recommendation systems: \n",
    "- **Clustering-based recommendation system**\n",
    "- **Content-based collaborative filtering**\n",
    "\n",
    "-----------------\n",
    "## Dataset\n",
    "-----------------\n",
    "\n",
    "We will only use the following four attributes from the **yelp_reviews dataset**: \n",
    "- business_id\n",
    "- business_name\n",
    "- stars\n",
    "- user_id\n",
    "- text: The text review by the user"
   ]
  },
  {
   "cell_type": "code",
   "execution_count": 2,
   "metadata": {
    "colab": {
     "base_uri": "https://localhost:8080/"
    },
    "id": "-PZQ9SaP6k4q",
    "outputId": "45832e85-6338-4596-f14d-441686b9b12b"
   },
   "outputs": [
    {
     "name": "stdout",
     "output_type": "stream",
     "text": [
      "Requirement already satisfied: surprise in c:\\users\\isabe\\anaconda3\\lib\\site-packages (0.1)\n",
      "Requirement already satisfied: scikit-surprise in c:\\users\\isabe\\anaconda3\\lib\\site-packages (from surprise) (1.1.1)\n",
      "Requirement already satisfied: joblib>=0.11 in c:\\users\\isabe\\anaconda3\\lib\\site-packages (from scikit-surprise->surprise) (1.1.0)\n",
      "Requirement already satisfied: numpy>=1.11.2 in c:\\users\\isabe\\anaconda3\\lib\\site-packages (from scikit-surprise->surprise) (1.21.5)\n",
      "Requirement already satisfied: scipy>=1.0.0 in c:\\users\\isabe\\anaconda3\\lib\\site-packages (from scikit-surprise->surprise) (1.7.3)\n",
      "Requirement already satisfied: six>=1.10.0 in c:\\users\\isabe\\anaconda3\\lib\\site-packages (from scikit-surprise->surprise) (1.16.0)\n"
     ]
    }
   ],
   "source": [
    "# Install the surprise package using the following line of code\n",
    "\n",
    "!pip install surprise"
   ]
  },
  {
   "cell_type": "markdown",
   "metadata": {
    "id": "G40aqxR2mRoj"
   },
   "source": [
    "## **Importing the necessary libraries and overview of the dataset**"
   ]
  },
  {
   "cell_type": "code",
   "execution_count": 3,
   "metadata": {
    "id": "SQmnGOA6EhK7"
   },
   "outputs": [],
   "source": [
    "# Importing necessary libraries\n",
    "\n",
    "import warnings                                               # Used to ignore the warnings in the error message\n",
    "warnings.filterwarnings('ignore')\n",
    "\n",
    "import numpy as np                                            # A basic python package for numerical operations\n",
    "import pandas as pd                                           # A python library to process and do computations on the data frames\n",
    "\n",
    "import matplotlib.pyplot as plt                               # A basic library to do data visualizations\n",
    "import seaborn as sns                                         # A slightly advanced one for data visualization\n",
    "from collections import defaultdict                           # A dictionary output that does not raise a key error\n",
    "from sklearn.metrics.pairwise import cosine_similarity        # To compute the cosine similarity between vectors\n",
    "from sklearn.preprocessing import LabelEncoder                # To do label encoding"
   ]
  },
  {
   "cell_type": "markdown",
   "metadata": {
    "id": "DjXGnY4G2-yG"
   },
   "source": [
    "### **Loading the data**"
   ]
  },
  {
   "cell_type": "code",
   "execution_count": 5,
   "metadata": {
    "colab": {
     "base_uri": "https://localhost:8080/",
     "height": 206
    },
    "id": "aSWJzW1dmRok",
    "outputId": "46923c77-f8ff-416b-be51-94bfa73a032c"
   },
   "outputs": [
    {
     "data": {
      "text/html": [
       "<div>\n",
       "<style scoped>\n",
       "    .dataframe tbody tr th:only-of-type {\n",
       "        vertical-align: middle;\n",
       "    }\n",
       "\n",
       "    .dataframe tbody tr th {\n",
       "        vertical-align: top;\n",
       "    }\n",
       "\n",
       "    .dataframe thead th {\n",
       "        text-align: right;\n",
       "    }\n",
       "</style>\n",
       "<table border=\"1\" class=\"dataframe\">\n",
       "  <thead>\n",
       "    <tr style=\"text-align: right;\">\n",
       "      <th></th>\n",
       "      <th>business_id</th>\n",
       "      <th>business_name</th>\n",
       "      <th>stars</th>\n",
       "      <th>text</th>\n",
       "      <th>user_id</th>\n",
       "    </tr>\n",
       "  </thead>\n",
       "  <tbody>\n",
       "    <tr>\n",
       "      <th>0</th>\n",
       "      <td>XQfwVwDr-v0ZS3_CbbE5Xw</td>\n",
       "      <td>Turning Point of North Wales</td>\n",
       "      <td>3.0</td>\n",
       "      <td>If you decide to eat here, just be aware it is...</td>\n",
       "      <td>mh_-eMZ6K5RLWhZyISBhwA</td>\n",
       "    </tr>\n",
       "    <tr>\n",
       "      <th>1</th>\n",
       "      <td>YjUWPpI6HXG530lwP-fb2A</td>\n",
       "      <td>Kettle Restaurant</td>\n",
       "      <td>3.0</td>\n",
       "      <td>Family diner. Had the buffet. Eclectic assortm...</td>\n",
       "      <td>8g_iMtfSiwikVnbP2etR0A</td>\n",
       "    </tr>\n",
       "    <tr>\n",
       "      <th>2</th>\n",
       "      <td>kxX2SOes4o-D3ZQBkiMRfA</td>\n",
       "      <td>Zaika</td>\n",
       "      <td>5.0</td>\n",
       "      <td>Wow!  Yummy, different,  delicious.   Our favo...</td>\n",
       "      <td>_7bHUi9Uuf5__HHc_Q8guQ</td>\n",
       "    </tr>\n",
       "    <tr>\n",
       "      <th>3</th>\n",
       "      <td>e4Vwtrqf-wpJfwesgvdgxQ</td>\n",
       "      <td>Melt</td>\n",
       "      <td>4.0</td>\n",
       "      <td>Cute interior and owner (?) gave us tour of up...</td>\n",
       "      <td>bcjbaE6dDog4jkNY91ncLQ</td>\n",
       "    </tr>\n",
       "    <tr>\n",
       "      <th>4</th>\n",
       "      <td>04UD14gamNjLY0IDYVhHJg</td>\n",
       "      <td>Dmitri's</td>\n",
       "      <td>1.0</td>\n",
       "      <td>I am a long term frequent customer of this est...</td>\n",
       "      <td>eUta8W_HdHMXPzLBBZhL1A</td>\n",
       "    </tr>\n",
       "  </tbody>\n",
       "</table>\n",
       "</div>"
      ],
      "text/plain": [
       "              business_id                 business_name  stars  \\\n",
       "0  XQfwVwDr-v0ZS3_CbbE5Xw  Turning Point of North Wales    3.0   \n",
       "1  YjUWPpI6HXG530lwP-fb2A             Kettle Restaurant    3.0   \n",
       "2  kxX2SOes4o-D3ZQBkiMRfA                         Zaika    5.0   \n",
       "3  e4Vwtrqf-wpJfwesgvdgxQ                          Melt    4.0   \n",
       "4  04UD14gamNjLY0IDYVhHJg                      Dmitri's    1.0   \n",
       "\n",
       "                                                text                 user_id  \n",
       "0  If you decide to eat here, just be aware it is...  mh_-eMZ6K5RLWhZyISBhwA  \n",
       "1  Family diner. Had the buffet. Eclectic assortm...  8g_iMtfSiwikVnbP2etR0A  \n",
       "2  Wow!  Yummy, different,  delicious.   Our favo...  _7bHUi9Uuf5__HHc_Q8guQ  \n",
       "3  Cute interior and owner (?) gave us tour of up...  bcjbaE6dDog4jkNY91ncLQ  \n",
       "4  I am a long term frequent customer of this est...  eUta8W_HdHMXPzLBBZhL1A  "
      ]
     },
     "execution_count": 5,
     "metadata": {},
     "output_type": "execute_result"
    }
   ],
   "source": [
    "# Import the dataset\n",
    "reviews = pd.read_csv(r'C:\\Users\\isabe\\Downloads\\yelp-dataset\\yelp.csv', usecols = ['user_id', 'business_id', 'business_name', 'stars', 'text'])\n",
    "\n",
    "# See the first 5 records of the dataset\n",
    "reviews.head()"
   ]
  },
  {
   "cell_type": "code",
   "execution_count": 7,
   "metadata": {},
   "outputs": [
    {
     "data": {
      "text/plain": [
       "(5126276, 5)"
      ]
     },
     "execution_count": 7,
     "metadata": {},
     "output_type": "execute_result"
    }
   ],
   "source": [
    "reviews.shape"
   ]
  },
  {
   "cell_type": "code",
   "execution_count": 6,
   "metadata": {
    "colab": {
     "base_uri": "https://localhost:8080/"
    },
    "id": "62AzehV-jjEt",
    "outputId": "86dc8fa8-8d8e-49f3-a4c9-f49075b16900"
   },
   "outputs": [
    {
     "name": "stdout",
     "output_type": "stream",
     "text": [
      "<class 'pandas.core.frame.DataFrame'>\n",
      "RangeIndex: 5126276 entries, 0 to 5126275\n",
      "Data columns (total 5 columns):\n",
      " #   Column         Dtype  \n",
      "---  ------         -----  \n",
      " 0   business_id    object \n",
      " 1   business_name  object \n",
      " 2   stars          float64\n",
      " 3   text           object \n",
      " 4   user_id        object \n",
      "dtypes: float64(1), object(4)\n",
      "memory usage: 195.6+ MB\n"
     ]
    }
   ],
   "source": [
    "# Check the info of the data\n",
    "reviews.info()"
   ]
  },
  {
   "cell_type": "markdown",
   "metadata": {
    "id": "-C0UQ3UiAHgR"
   },
   "source": [
    "- There are **5126276 observations and 5 columns** in the data.\n",
    "- There are **no missing values** in the data.\n",
    "- All the **columns are of object data type except the stars column** which is of numeric data type."
   ]
  },
  {
   "cell_type": "markdown",
   "metadata": {
    "id": "FFbQ0m-b2LRH"
   },
   "source": [
    "## **Data Exploration**\n",
    "\n",
    "Let's start with the data exploration.\n",
    "\n",
    "**Print the top 5 rows of the dataset and describe the dataset.**  "
   ]
  },
  {
   "cell_type": "code",
   "execution_count": 8,
   "metadata": {
    "colab": {
     "base_uri": "https://localhost:8080/",
     "height": 206
    },
    "id": "9ufxAfJA2LRI",
    "outputId": "020ccc78-451f-40e1-a4d8-cb6d9f011b56"
   },
   "outputs": [
    {
     "data": {
      "text/html": [
       "<div>\n",
       "<style scoped>\n",
       "    .dataframe tbody tr th:only-of-type {\n",
       "        vertical-align: middle;\n",
       "    }\n",
       "\n",
       "    .dataframe tbody tr th {\n",
       "        vertical-align: top;\n",
       "    }\n",
       "\n",
       "    .dataframe thead th {\n",
       "        text-align: right;\n",
       "    }\n",
       "</style>\n",
       "<table border=\"1\" class=\"dataframe\">\n",
       "  <thead>\n",
       "    <tr style=\"text-align: right;\">\n",
       "      <th></th>\n",
       "      <th>business_id</th>\n",
       "      <th>business_name</th>\n",
       "      <th>stars</th>\n",
       "      <th>text</th>\n",
       "      <th>user_id</th>\n",
       "    </tr>\n",
       "  </thead>\n",
       "  <tbody>\n",
       "    <tr>\n",
       "      <th>0</th>\n",
       "      <td>XQfwVwDr-v0ZS3_CbbE5Xw</td>\n",
       "      <td>Turning Point of North Wales</td>\n",
       "      <td>3.0</td>\n",
       "      <td>If you decide to eat here, just be aware it is...</td>\n",
       "      <td>mh_-eMZ6K5RLWhZyISBhwA</td>\n",
       "    </tr>\n",
       "    <tr>\n",
       "      <th>1</th>\n",
       "      <td>YjUWPpI6HXG530lwP-fb2A</td>\n",
       "      <td>Kettle Restaurant</td>\n",
       "      <td>3.0</td>\n",
       "      <td>Family diner. Had the buffet. Eclectic assortm...</td>\n",
       "      <td>8g_iMtfSiwikVnbP2etR0A</td>\n",
       "    </tr>\n",
       "    <tr>\n",
       "      <th>2</th>\n",
       "      <td>kxX2SOes4o-D3ZQBkiMRfA</td>\n",
       "      <td>Zaika</td>\n",
       "      <td>5.0</td>\n",
       "      <td>Wow!  Yummy, different,  delicious.   Our favo...</td>\n",
       "      <td>_7bHUi9Uuf5__HHc_Q8guQ</td>\n",
       "    </tr>\n",
       "    <tr>\n",
       "      <th>3</th>\n",
       "      <td>e4Vwtrqf-wpJfwesgvdgxQ</td>\n",
       "      <td>Melt</td>\n",
       "      <td>4.0</td>\n",
       "      <td>Cute interior and owner (?) gave us tour of up...</td>\n",
       "      <td>bcjbaE6dDog4jkNY91ncLQ</td>\n",
       "    </tr>\n",
       "    <tr>\n",
       "      <th>4</th>\n",
       "      <td>04UD14gamNjLY0IDYVhHJg</td>\n",
       "      <td>Dmitri's</td>\n",
       "      <td>1.0</td>\n",
       "      <td>I am a long term frequent customer of this est...</td>\n",
       "      <td>eUta8W_HdHMXPzLBBZhL1A</td>\n",
       "    </tr>\n",
       "  </tbody>\n",
       "</table>\n",
       "</div>"
      ],
      "text/plain": [
       "              business_id                 business_name  stars  \\\n",
       "0  XQfwVwDr-v0ZS3_CbbE5Xw  Turning Point of North Wales    3.0   \n",
       "1  YjUWPpI6HXG530lwP-fb2A             Kettle Restaurant    3.0   \n",
       "2  kxX2SOes4o-D3ZQBkiMRfA                         Zaika    5.0   \n",
       "3  e4Vwtrqf-wpJfwesgvdgxQ                          Melt    4.0   \n",
       "4  04UD14gamNjLY0IDYVhHJg                      Dmitri's    1.0   \n",
       "\n",
       "                                                text                 user_id  \n",
       "0  If you decide to eat here, just be aware it is...  mh_-eMZ6K5RLWhZyISBhwA  \n",
       "1  Family diner. Had the buffet. Eclectic assortm...  8g_iMtfSiwikVnbP2etR0A  \n",
       "2  Wow!  Yummy, different,  delicious.   Our favo...  _7bHUi9Uuf5__HHc_Q8guQ  \n",
       "3  Cute interior and owner (?) gave us tour of up...  bcjbaE6dDog4jkNY91ncLQ  \n",
       "4  I am a long term frequent customer of this est...  eUta8W_HdHMXPzLBBZhL1A  "
      ]
     },
     "execution_count": 8,
     "metadata": {},
     "output_type": "execute_result"
    }
   ],
   "source": [
    "# Printing the first 5 rows of the dataset\n",
    "reviews.head()"
   ]
  },
  {
   "cell_type": "markdown",
   "metadata": {
    "id": "JYtlN9YUjjEv"
   },
   "source": [
    "#### **Describe the distribution of ratings**"
   ]
  },
  {
   "cell_type": "code",
   "execution_count": 9,
   "metadata": {
    "colab": {
     "base_uri": "https://localhost:8080/",
     "height": 348
    },
    "id": "CUrLRQ_ROcPF",
    "outputId": "a15a1832-f1ea-476b-bc37-aa1e58df5a85"
   },
   "outputs": [
    {
     "data": {
      "image/png": "[encoded data removed]",
      "text/plain": [
       "<Figure size 864x360 with 1 Axes>"
      ]
     },
     "metadata": {
      "needs_background": "light"
     },
     "output_type": "display_data"
    }
   ],
   "source": [
    "# Fix the figure size of the plot\n",
    "plt.figure(figsize = (12, 5))\n",
    "\n",
    "# Code to create the countplot\n",
    "ax = sns.countplot(x=\"stars\", data = reviews)\n",
    "\n",
    "plt.tick_params(labelsize = 10)\n",
    "\n",
    "plt.title(\"Distribution of Ratings \", fontsize = 10)\n",
    "\n",
    "plt.xlabel(\"Ratings\", fontsize = 10)\n",
    "\n",
    "plt.ylabel(\"Number of Ratings\", fontsize = 10)\n",
    "\n",
    "# Show the plot\n",
    "plt.show()"
   ]
  },
  {
   "cell_type": "markdown",
   "metadata": {
    "id": "CSVbvZIKjjEw"
   },
   "source": [
    "**Observations:**\n",
    "\n",
    "* Data seems to be **highly skewed** towards Rating **'4' and '5'**. Rating **'5'** is the second-highest in the count and nearly the same as the number of 4 rating count. \n",
    "\n",
    "* We can see very few people are giving ratings **between 1 to 3**. It shows people tend to **not give a rating** for a restaurant that they **dislike**."
   ]
  },
  {
   "cell_type": "markdown",
   "metadata": {
    "id": "0RuNopldN13K"
   },
   "source": [
    "#### **What is the total number of unique users and unique Restaurants?**"
   ]
  },
  {
   "cell_type": "code",
   "execution_count": 10,
   "metadata": {
    "colab": {
     "base_uri": "https://localhost:8080/"
    },
    "id": "YOZ6XVLFO0Gp",
    "outputId": "e56a8c6f-81da-465c-b28d-8fc3b87ae73e"
   },
   "outputs": [
    {
     "data": {
      "text/plain": [
       "1505695"
      ]
     },
     "execution_count": 10,
     "metadata": {},
     "output_type": "execute_result"
    }
   ],
   "source": [
    "# Number of unique users\n",
    "reviews['user_id'].nunique()"
   ]
  },
  {
   "cell_type": "code",
   "execution_count": 11,
   "metadata": {
    "colab": {
     "base_uri": "https://localhost:8080/"
    },
    "id": "TIWPpCYQPO3r",
    "outputId": "7f119ba7-fb51-40d4-8597-b789b21b6127"
   },
   "outputs": [
    {
     "data": {
      "text/plain": [
       "64629"
      ]
     },
     "execution_count": 11,
     "metadata": {},
     "output_type": "execute_result"
    }
   ],
   "source": [
    "# Number of unique Restaurant \n",
    "reviews['business_id'].nunique()"
   ]
  },
  {
   "cell_type": "markdown",
   "metadata": {
    "id": "rGEyKaQGPZ1G"
   },
   "source": [
    "**Observations:**\n",
    "- There are **1505695 users** in the dataset\n",
    "- There are **64629 Restaurants** in the dataset\n",
    "- As per the number of unique users and Restaurant, there is a **possibility of 1505695 * 64629 = ~ 97 x 10^9 ratings** in the dataset. But **we have 5126276 ratings**, i.e., not every user has rated every Restaurant in the dataset. And we can build a recommendation system to recommend a restaurant to users which they have not interacted with."
   ]
  },
  {
   "cell_type": "markdown",
   "metadata": {
    "id": "MwpzHxsOjjEx"
   },
   "source": [
    "#### **Is there any restaurant that has been visited more than once by the same user?**"
   ]
  },
  {
   "cell_type": "code",
   "execution_count": 12,
   "metadata": {
    "colab": {
     "base_uri": "https://localhost:8080/",
     "height": 455
    },
    "id": "ufdE4XStRKHY",
    "outputId": "86397ce5-feb9-4a04-b6c7-457a46dbb342"
   },
   "outputs": [
    {
     "data": {
      "text/html": [
       "<div>\n",
       "<style scoped>\n",
       "    .dataframe tbody tr th:only-of-type {\n",
       "        vertical-align: middle;\n",
       "    }\n",
       "\n",
       "    .dataframe tbody tr th {\n",
       "        vertical-align: top;\n",
       "    }\n",
       "\n",
       "    .dataframe thead th {\n",
       "        text-align: right;\n",
       "    }\n",
       "</style>\n",
       "<table border=\"1\" class=\"dataframe\">\n",
       "  <thead>\n",
       "    <tr style=\"text-align: right;\">\n",
       "      <th></th>\n",
       "      <th></th>\n",
       "      <th>business_name</th>\n",
       "      <th>stars</th>\n",
       "      <th>text</th>\n",
       "    </tr>\n",
       "    <tr>\n",
       "      <th>user_id</th>\n",
       "      <th>business_id</th>\n",
       "      <th></th>\n",
       "      <th></th>\n",
       "      <th></th>\n",
       "    </tr>\n",
       "  </thead>\n",
       "  <tbody>\n",
       "    <tr>\n",
       "      <th rowspan=\"5\" valign=\"top\">---2PmXbF47D870stH1jqA</th>\n",
       "      <th>0ZsqqzHu1HHkDdIKoivi5g</th>\n",
       "      <td>1</td>\n",
       "      <td>1</td>\n",
       "      <td>1</td>\n",
       "    </tr>\n",
       "    <tr>\n",
       "      <th>1An4DxtMmvvSe0HX4viRCA</th>\n",
       "      <td>3</td>\n",
       "      <td>3</td>\n",
       "      <td>3</td>\n",
       "    </tr>\n",
       "    <tr>\n",
       "      <th>3YqUe2FTCQr0pPVK8oCv6Q</th>\n",
       "      <td>1</td>\n",
       "      <td>1</td>\n",
       "      <td>1</td>\n",
       "    </tr>\n",
       "    <tr>\n",
       "      <th>3gXgILE2YWVidJDvVWBT6Q</th>\n",
       "      <td>1</td>\n",
       "      <td>1</td>\n",
       "      <td>1</td>\n",
       "    </tr>\n",
       "    <tr>\n",
       "      <th>HpWi2CRJlxVCYKd8kS0X-A</th>\n",
       "      <td>1</td>\n",
       "      <td>1</td>\n",
       "      <td>1</td>\n",
       "    </tr>\n",
       "    <tr>\n",
       "      <th>...</th>\n",
       "      <th>...</th>\n",
       "      <td>...</td>\n",
       "      <td>...</td>\n",
       "      <td>...</td>\n",
       "    </tr>\n",
       "    <tr>\n",
       "      <th>zzz-M4QvkEpUWWPL9RTzLA</th>\n",
       "      <th>nKJ6RnjIVfWrXO2DUrBgCw</th>\n",
       "      <td>1</td>\n",
       "      <td>1</td>\n",
       "      <td>1</td>\n",
       "    </tr>\n",
       "    <tr>\n",
       "      <th>zzzCg-_lpyYE82TlJCdwdw</th>\n",
       "      <th>LttC5xNMFcgOg3bt_MlXTg</th>\n",
       "      <td>1</td>\n",
       "      <td>1</td>\n",
       "      <td>1</td>\n",
       "    </tr>\n",
       "    <tr>\n",
       "      <th>zzzGgfvrSJ4AQeKtcgocIw</th>\n",
       "      <th>XyYsl2OyoMi6OMvzsdcVoQ</th>\n",
       "      <td>1</td>\n",
       "      <td>1</td>\n",
       "      <td>1</td>\n",
       "    </tr>\n",
       "    <tr>\n",
       "      <th>zzzMBVS73g3ZJ7qL8JyhiA</th>\n",
       "      <th>3FKIev7ZB_KE6XHL9sUJCg</th>\n",
       "      <td>1</td>\n",
       "      <td>1</td>\n",
       "      <td>1</td>\n",
       "    </tr>\n",
       "    <tr>\n",
       "      <th>zzzUFM4HFe0SFG0bPjntQA</th>\n",
       "      <th>xe2L_RvBNgkrVburQrfW_Q</th>\n",
       "      <td>1</td>\n",
       "      <td>1</td>\n",
       "      <td>1</td>\n",
       "    </tr>\n",
       "  </tbody>\n",
       "</table>\n",
       "<p>4950805 rows × 3 columns</p>\n",
       "</div>"
      ],
      "text/plain": [
       "                                               business_name  stars  text\n",
       "user_id                business_id                                       \n",
       "---2PmXbF47D870stH1jqA 0ZsqqzHu1HHkDdIKoivi5g              1      1     1\n",
       "                       1An4DxtMmvvSe0HX4viRCA              3      3     3\n",
       "                       3YqUe2FTCQr0pPVK8oCv6Q              1      1     1\n",
       "                       3gXgILE2YWVidJDvVWBT6Q              1      1     1\n",
       "                       HpWi2CRJlxVCYKd8kS0X-A              1      1     1\n",
       "...                                                      ...    ...   ...\n",
       "zzz-M4QvkEpUWWPL9RTzLA nKJ6RnjIVfWrXO2DUrBgCw              1      1     1\n",
       "zzzCg-_lpyYE82TlJCdwdw LttC5xNMFcgOg3bt_MlXTg              1      1     1\n",
       "zzzGgfvrSJ4AQeKtcgocIw XyYsl2OyoMi6OMvzsdcVoQ              1      1     1\n",
       "zzzMBVS73g3ZJ7qL8JyhiA 3FKIev7ZB_KE6XHL9sUJCg              1      1     1\n",
       "zzzUFM4HFe0SFG0bPjntQA xe2L_RvBNgkrVburQrfW_Q              1      1     1\n",
       "\n",
       "[4950805 rows x 3 columns]"
      ]
     },
     "execution_count": 12,
     "metadata": {},
     "output_type": "execute_result"
    }
   ],
   "source": [
    "reviews.groupby(['user_id', 'business_id']).count()"
   ]
  },
  {
   "cell_type": "code",
   "execution_count": 13,
   "metadata": {
    "colab": {
     "base_uri": "https://localhost:8080/"
    },
    "id": "JkARqCs5ThYp",
    "outputId": "abea424b-c7a4-4ecd-d020-e941d4a41e92"
   },
   "outputs": [
    {
     "data": {
      "text/plain": [
       "5126276"
      ]
     },
     "execution_count": 13,
     "metadata": {},
     "output_type": "execute_result"
    }
   ],
   "source": [
    "reviews.groupby(['user_id', 'business_id']).count()['stars'].sum()"
   ]
  },
  {
   "cell_type": "markdown",
   "metadata": {
    "id": "rCphg_XYTdhw"
   },
   "source": [
    "- The **sum is equal to the total number of observations** which implies that **there is only interaction between a pair of user and a restaurant**."
   ]
  },
  {
   "cell_type": "markdown",
   "metadata": {
    "id": "kRzTNcF4UOZe"
   },
   "source": [
    "#### **Which Restaurant is the most reviewed Restaurant in the dataset?**"
   ]
  },
  {
   "cell_type": "code",
   "execution_count": 14,
   "metadata": {
    "colab": {
     "base_uri": "https://localhost:8080/"
    },
    "id": "c9alX6NvUWM9",
    "outputId": "06f6130b-9ccb-4a4a-fe8c-1759a5ed8213"
   },
   "outputs": [
    {
     "data": {
      "text/plain": [
       "_ab50qdWOk0DdB6XOrBitw    7673\n",
       "ac1AeYqs8Z4_e2X5M3if2A    7516\n",
       "GXFMD0Z4jEVZBCsbPf4CTQ    6160\n",
       "ytynqOUb3hjKeJfRj5Tshw    5778\n",
       "oBNrLz4EDhiscSlbOl8uAw    5264\n",
       "                          ... \n",
       "Tz4I_iLZz4ex7injzr0Xhw       5\n",
       "g-GurkPLhwx13WNehQUlaQ       5\n",
       "mYyFlgnrOHLLr79Htnl2YA       5\n",
       "7NkedKr4d56ZKGSc_Ywe-g       5\n",
       "Tj9FmBCHd84kjAE9vcoBnw       5\n",
       "Name: business_id, Length: 64629, dtype: int64"
      ]
     },
     "execution_count": 14,
     "metadata": {},
     "output_type": "execute_result"
    }
   ],
   "source": [
    "reviews['business_id'].value_counts()"
   ]
  },
  {
   "cell_type": "markdown",
   "metadata": {
    "id": "-prdXG21UcPa"
   },
   "source": [
    "**Observations:**\n",
    "- The **Restaurant with business_id: _ab50qdWOk0DdB6XOrBitw  has been interacted by most users** which is **7673** times.\n",
    "- But still, there is a possibility of **1505695-7673 = 1,498,022** more interactions as we have **1505695** unique users in our datasets. For those  **remaining users**, we can build a **recommendation system** to predict who is most likely to visit the Restaurant.\n",
    "- Also, out of these **7673 interactions**, we need to consider the distribution of ratings as well to check whether this Restaurant is the **most liked or most disliked Restaurant**."
   ]
  },
  {
   "cell_type": "markdown",
   "metadata": {
    "id": "n5vLBbvMXr_u"
   },
   "source": [
    "#### **Which user interacted the most with any Restaurant in the dataset?**"
   ]
  },
  {
   "cell_type": "code",
   "execution_count": 16,
   "metadata": {
    "colab": {
     "base_uri": "https://localhost:8080/"
    },
    "id": "Jdu_uCtWXx3v",
    "outputId": "eb884abd-7e7c-4c13-bf0b-762584aedba2"
   },
   "outputs": [
    {
     "data": {
      "text/plain": [
       "_BcWyKQL16ndpBdggh2kNA    2110\n",
       "-G7Zkl1wIWBBmD0KRy_sCw    1459\n",
       "ET8n-r7glWYqZhuR6GcdNw    1276\n",
       "fr1Hz2acAb3OaL3l6DyKNg    1254\n",
       "1HM81n6n4iPIFU5d2Lokhw    1198\n",
       "                          ... \n",
       "H4LoKfEntdhzVwOX_V-qgg       1\n",
       "AlwVVS0-O7EdQN97r6v2Aw       1\n",
       "dCMseuMVeM86bFO4_e3WNw       1\n",
       "H91Bm06ivGQDCVMoh_qdCA       1\n",
       "3kJ4ktaXV-RVm49M-y1uTg       1\n",
       "Name: user_id, Length: 1505695, dtype: int64"
      ]
     },
     "execution_count": 16,
     "metadata": {},
     "output_type": "execute_result"
    }
   ],
   "source": [
    "reviews['user_id'].value_counts()"
   ]
  },
  {
   "cell_type": "markdown",
   "metadata": {
    "id": "l1H6aArqX4-R"
   },
   "source": [
    "**Observations:**\n",
    "- The user with **user_id: 1HM81n6n4iPIFU5d2Lokhw** have interacted with the most number of restaurants, i.e., **1198** times. \n",
    "- But still, there is a possibility of **64629-1198 = 63,431** more interactions as we have **64,629 unique Restaurants** in our dataset. For those **63,431** remaining Restaurants, we can build a recommendation system to predict which restaurants are most likely to be reviewed by this user."
   ]
  },
  {
   "cell_type": "markdown",
   "metadata": {},
   "source": [
    "The user with user_id 1HM81n6n4iPIFU5d2Lokhw has interacted with the most number of restaurants, i.e., 1198 times.\n",
    "But still, there is a possibility of 64629-1198 = 63,431 more interactions as we have 64,629 unique restaurants in our dataset. For those 63,431 remaining restaurants, a recommendation system can be built to predict which restaurants are most likely to be reviewed by this user."
   ]
  },
  {
   "cell_type": "markdown",
   "metadata": {
    "id": "ASHgxEy7jjE0"
   },
   "source": [
    "**As this dataset is very large and has 5126276 observations, it is not computationally possible to build a model using this. Moreover, there are many users who have only rated a few restaurants and also there are restaurants which are rated by very less users. Hence we can reduce the dataset by considering certain Logical assumption.**\n",
    "\n",
    "Here, We will be taking users who have given at least 100 rating, as we prefer to have some number of rating of a restaurant."
   ]
  },
  {
   "cell_type": "code",
   "execution_count": 18,
   "metadata": {
    "id": "bFPuhsFTjjE0"
   },
   "outputs": [],
   "source": [
    "# Get the column containing the users\n",
    "users = reviews.user_id\n",
    "\n",
    "# Create a dictionary from users to their number of ratings\n",
    "ratings_count = dict()\n",
    "\n",
    "for user in users:\n",
    "    # If we already have the user, just add 1 to their rating count\n",
    "    if user in ratings_count:\n",
    "        ratings_count[user] += 1\n",
    "    # Otherwise, set their rating count to 1\n",
    "    else:\n",
    "        ratings_count[user] = 1   "
   ]
  },
  {
   "cell_type": "code",
   "execution_count": 19,
   "metadata": {
    "id": "KXq1ERpmjjE0"
   },
   "outputs": [],
   "source": [
    "# We want our users to have at least 100 ratings to be considred\n",
    "RATINGS_CUTOFF = 100\n",
    "\n",
    "remove_users = []\n",
    "\n",
    "for user, num_ratings in ratings_count.items():\n",
    "    if num_ratings < RATINGS_CUTOFF:\n",
    "        remove_users.append(user)\n",
    "reviews = reviews.loc[ ~ reviews.user_id.isin(remove_users)]"
   ]
  },
  {
   "cell_type": "markdown",
   "metadata": {
    "id": "key8OGgumRol"
   },
   "source": [
    "The columns **business_id** and **user_id** are encrypted to provide anonymity. To ease our processing of the dataset we will use **label encodings** to process these two variables."
   ]
  },
  {
   "cell_type": "code",
   "execution_count": 20,
   "metadata": {
    "id": "JwlA9o7bmRol"
   },
   "outputs": [],
   "source": [
    "# Label Encoding\n",
    "le = LabelEncoder()\n",
    "\n",
    "# Fit transform the user_id column\n",
    "reviews['user_id'] = le.fit_transform(reviews['user_id'])\n",
    "\n",
    "# Fit transform the business_id column\n",
    "reviews['business_id'] = le.fit_transform(reviews['business_id'])"
   ]
  },
  {
   "cell_type": "code",
   "execution_count": 21,
   "metadata": {
    "colab": {
     "base_uri": "https://localhost:8080/",
     "height": 206
    },
    "id": "ZnuN76E3mRom",
    "outputId": "1f463446-3f62-47fa-d64b-ab1ba01aab0f"
   },
   "outputs": [
    {
     "data": {
      "text/html": [
       "<div>\n",
       "<style scoped>\n",
       "    .dataframe tbody tr th:only-of-type {\n",
       "        vertical-align: middle;\n",
       "    }\n",
       "\n",
       "    .dataframe tbody tr th {\n",
       "        vertical-align: top;\n",
       "    }\n",
       "\n",
       "    .dataframe thead th {\n",
       "        text-align: right;\n",
       "    }\n",
       "</style>\n",
       "<table border=\"1\" class=\"dataframe\">\n",
       "  <thead>\n",
       "    <tr style=\"text-align: right;\">\n",
       "      <th></th>\n",
       "      <th>business_id</th>\n",
       "      <th>business_name</th>\n",
       "      <th>stars</th>\n",
       "      <th>text</th>\n",
       "      <th>user_id</th>\n",
       "    </tr>\n",
       "  </thead>\n",
       "  <tbody>\n",
       "    <tr>\n",
       "      <th>3</th>\n",
       "      <td>36604</td>\n",
       "      <td>Melt</td>\n",
       "      <td>4.0</td>\n",
       "      <td>Cute interior and owner (?) gave us tour of up...</td>\n",
       "      <td>1840</td>\n",
       "    </tr>\n",
       "    <tr>\n",
       "      <th>9</th>\n",
       "      <td>24716</td>\n",
       "      <td>LaScala's</td>\n",
       "      <td>4.0</td>\n",
       "      <td>Good food--loved the gnocchi with marinara\\nth...</td>\n",
       "      <td>2632</td>\n",
       "    </tr>\n",
       "    <tr>\n",
       "      <th>18</th>\n",
       "      <td>35139</td>\n",
       "      <td>Naked Tchopstix Express</td>\n",
       "      <td>4.0</td>\n",
       "      <td>I was really between 3 and 4 stars for this on...</td>\n",
       "      <td>1350</td>\n",
       "    </tr>\n",
       "    <tr>\n",
       "      <th>39</th>\n",
       "      <td>13841</td>\n",
       "      <td>Village Whiskey</td>\n",
       "      <td>5.0</td>\n",
       "      <td>On a scale of one to things that are awesome, ...</td>\n",
       "      <td>1680</td>\n",
       "    </tr>\n",
       "    <tr>\n",
       "      <th>41</th>\n",
       "      <td>27975</td>\n",
       "      <td>Jasmine Rice - Rittenhouse</td>\n",
       "      <td>4.0</td>\n",
       "      <td>It was my fiance's birthday and he decided he ...</td>\n",
       "      <td>918</td>\n",
       "    </tr>\n",
       "  </tbody>\n",
       "</table>\n",
       "</div>"
      ],
      "text/plain": [
       "    business_id               business_name  stars  \\\n",
       "3         36604                        Melt    4.0   \n",
       "9         24716                   LaScala's    4.0   \n",
       "18        35139     Naked Tchopstix Express    4.0   \n",
       "39        13841             Village Whiskey    5.0   \n",
       "41        27975  Jasmine Rice - Rittenhouse    4.0   \n",
       "\n",
       "                                                 text  user_id  \n",
       "3   Cute interior and owner (?) gave us tour of up...     1840  \n",
       "9   Good food--loved the gnocchi with marinara\\nth...     2632  \n",
       "18  I was really between 3 and 4 stars for this on...     1350  \n",
       "39  On a scale of one to things that are awesome, ...     1680  \n",
       "41  It was my fiance's birthday and he decided he ...      918  "
      ]
     },
     "execution_count": 21,
     "metadata": {},
     "output_type": "execute_result"
    }
   ],
   "source": [
    "# See the first 5 records\n",
    "reviews.head()"
   ]
  },
  {
   "cell_type": "code",
   "execution_count": 22,
   "metadata": {
    "id": "wJkezPeGB1pU"
   },
   "outputs": [],
   "source": [
    "# Calculating average ratings\n",
    "average_rating = reviews.groupby('business_id').mean()['stars']\n",
    "\n",
    "# Calculating the count of ratings\n",
    "count_rating = reviews.groupby('business_id').count()['stars']\n",
    "\n",
    "# Making a dataframe with the count and average of ratings\n",
    "final_rating = pd.DataFrame({'avg_rating': average_rating, 'rating_count': count_rating})"
   ]
  },
  {
   "cell_type": "markdown",
   "metadata": {
    "id": "hw1o1jxTA2tW"
   },
   "source": [
    "To demonstrate the **clustering-based recommendation system** the **Surprise package** is introduced in this case study.\n",
    "- Please use the following code to install the surprise library. You only do it once while running the code for the first time.\n",
    "\n",
    "**!pip install surprise**"
   ]
  },
  {
   "cell_type": "code",
   "execution_count": 23,
   "metadata": {
    "id": "weUE9G42FV3g"
   },
   "outputs": [],
   "source": [
    "# To compute the accuracy of models\n",
    "from surprise import accuracy\n",
    "\n",
    "# This class is used to parse a file containing ratings, data should be in structure - user; item; rating\n",
    "from surprise.reader import Reader\n",
    "\n",
    "# Class for loading datasets\n",
    "from surprise.dataset import Dataset\n",
    "\n",
    "# For tuning model hyperparameters\n",
    "from surprise.model_selection import GridSearchCV\n",
    "\n",
    "# For splitting the rating data in train and test dataset\n",
    "from surprise.model_selection import train_test_split\n",
    "\n",
    "# For implementing clustering based recommendation system\n",
    "from surprise import CoClustering"
   ]
  },
  {
   "cell_type": "markdown",
   "metadata": {
    "id": "AMkqi-CUmYXL"
   },
   "source": [
    "### **Some useful functions**"
   ]
  },
  {
   "cell_type": "markdown",
   "metadata": {
    "id": "h87dmUZymY27"
   },
   "source": [
    "- Below function takes the **recommendation model** as input and gives the **precision@k and recall@k** for that model.  \n",
    "- To compute **precision and recall**, **top k** predictions are taken under consideration for each user."
   ]
  },
  {
   "cell_type": "code",
   "execution_count": 24,
   "metadata": {
    "id": "gR4mEE1THCL_"
   },
   "outputs": [],
   "source": [
    "def precision_recall_at_k(model, k = 10, threshold = 3.5):\n",
    "    \"\"\"Returns precision and recall at k metrics for each user.\"\"\"\n",
    "\n",
    "    # First map the predictions to each user\n",
    "    user_est_true = defaultdict(list)\n",
    "    \n",
    "    # Making predictions on the test data\n",
    "    predictions = model.test(testset)\n",
    "    \n",
    "    for uid, _, true_r, est, _ in predictions:\n",
    "        user_est_true[uid].append((est, true_r))\n",
    "\n",
    "    precisions = dict()\n",
    "    recalls = dict()\n",
    "    for uid, user_ratings in user_est_true.items():\n",
    "\n",
    "        # Sort user ratings by estimated value\n",
    "        user_ratings.sort(key = lambda x: x[0], reverse = True)\n",
    "\n",
    "        # Number of relevant items\n",
    "        n_rel = sum((true_r >= threshold) for (_, true_r) in user_ratings)\n",
    "\n",
    "        # Number of recommended items in top k\n",
    "        n_rec_k = sum((est >= threshold) for (est, _) in user_ratings[:k])\n",
    "\n",
    "        # Number of relevant and recommended items in top k\n",
    "        n_rel_and_rec_k = sum(((true_r >= threshold) and (est >= threshold))\n",
    "                              for (est, true_r) in user_ratings[:k])\n",
    "\n",
    "        # Precision@K: Proportion of recommended items that are relevant. When n_rec_k is 0, \n",
    "        # Precision is undefined. We here set Precision to 0 when n_rec_k is 0\n",
    "\n",
    "        precisions[uid] = n_rel_and_rec_k / n_rec_k if n_rec_k != 0 else 0\n",
    "\n",
    "        # Recall@K: Proportion of relevant items that are recommended. When n_rel is 0, \n",
    "        # Recall is undefined. We here set Recall to 0 when n_rel is 0\n",
    "\n",
    "        recalls[uid] = n_rel_and_rec_k / n_rel if n_rel != 0 else 0\n",
    "    \n",
    "    # Mean of all the predicted precisions are calculated\n",
    "    precision = round((sum(prec for prec in precisions.values()) / len(precisions)), 3)\n",
    "    \n",
    "    # Mean of all the predicted recalls are calculated\n",
    "    recall = round((sum(rec for rec in recalls.values()) / len(recalls)), 3)\n",
    "    \n",
    "    accuracy.rmse(predictions)\n",
    "\n",
    "    # Command to print the overall precision\n",
    "    print('Precision: ', precision)\n",
    "\n",
    "    # Command to print the overall recall\n",
    "    print('Recall: ', recall)\n",
    "\n",
    "    # Formula to compute the F-1 score\n",
    "    print('F_1 score: ', round((2*precision * recall) / (precision + recall), 3))"
   ]
  },
  {
   "cell_type": "markdown",
   "metadata": {
    "id": "ot9L_SKRjuNz"
   },
   "source": [
    "Below we are loading the **`rating` dataset**, which is a **pandas dataframe**, into a **different format called `surprise.dataset.DatasetAutoFolds`** which is required by this library. To do this we will be **using the classes `Reader` and `Dataset`**."
   ]
  },
  {
   "cell_type": "code",
   "execution_count": 25,
   "metadata": {
    "id": "BrV3IZiLqaf5"
   },
   "outputs": [],
   "source": [
    "# Instantiating Reader scale with expected rating scale\n",
    "reader = Reader(rating_scale = (0, 5))\n",
    "\n",
    "# Loading the dataset\n",
    "data = Dataset.load_from_df(reviews[['user_id', 'business_id', 'stars']], reader)\n",
    "\n",
    "# Splitting the data into train and test dataset\n",
    "trainset, testset = train_test_split(data, test_size = 0.2, random_state = 42)"
   ]
  },
  {
   "cell_type": "markdown",
   "metadata": {
    "id": "55ztGt8hBahz"
   },
   "source": [
    "## **Cluster-Based Recommendation System**"
   ]
  },
  {
   "cell_type": "markdown",
   "metadata": {
    "id": "bmIe2DQ5Bahz"
   },
   "source": [
    "In **clustering-based recommendation systems**, we explore the **similarities and differences** in people's tastes in restaurants based on how they rate different restaurants. We cluster similar users together and recommend restaurants to a user based on ratings from other users in the same cluster."
   ]
  },
  {
   "cell_type": "markdown",
   "metadata": {
    "id": "exPydKAmBahz"
   },
   "source": [
    "- **Co-clustering** is a set of techniques in **Cluster Analysis**. Given some **matrix A, we want to cluster rows of A and columns of A simultaneously**, this is a common task for user-item matrices. \n",
    "\n",
    "- As it clusters both the rows and columns simultaneously, it is also called **bi-clustering**. To understand the working of the algorithm let A be m x n matrix, goal is to generate co-clusters: a subset of rows that exhibit similar behavior across a subset of columns, or vice versa.\n",
    "\n",
    "- Co-clustering is defined as two map functions:\n",
    "rows -> row cluster indexes\n",
    "columns -> column cluster indexes\n",
    "These map functions are learned simultaneously. It is **different from other clustering techniques** where we cluster **first the rows and then the columns**. "
   ]
  },
  {
   "cell_type": "code",
   "execution_count": 26,
   "metadata": {
    "colab": {
     "base_uri": "https://localhost:8080/"
    },
    "id": "0c4b20e4",
    "outputId": "161cf9e8-5f4c-41c9-9439-eb21182dc422"
   },
   "outputs": [
    {
     "name": "stdout",
     "output_type": "stream",
     "text": [
      "RMSE: 0.9997\n",
      "Precision:  0.799\n",
      "Recall:  0.382\n",
      "F_1 score:  0.517\n"
     ]
    }
   ],
   "source": [
    "# Using Co-Clustering algorithm\n",
    "clust_baseline = CoClustering(random_state = 1)\n",
    "\n",
    "# Training the algorithm on the trainset\n",
    "clust_baseline.fit(trainset)\n",
    "\n",
    "# Let us compute precision@k and recall@k with k = 10\n",
    "precision_recall_at_k(clust_baseline)"
   ]
  },
  {
   "cell_type": "markdown",
   "metadata": {
    "id": "20f67577"
   },
   "source": [
    "\n",
    "\n",
    "* We have calculated **RMSE** to check **how far the overall predicted ratings** are from the **actual ratings**.\n",
    "\n",
    "* Here **F_1 score** of the **baseline model is almost 0.517**. It indicates that **recommended restaurants were relevant and relevant restaurants were recommended for more than half the recommendations**. We will try to improve this later by using **GridSearchCV by tuning different hyperparameters** of this algorithm."
   ]
  },
  {
   "cell_type": "markdown",
   "metadata": {
    "id": "9AQsDH3Ym6JP"
   },
   "source": [
    "Let's now predict a rating for a user with `userId = 4` and `business_Id = 9483` as shown below."
   ]
  },
  {
   "cell_type": "code",
   "execution_count": 27,
   "metadata": {
    "colab": {
     "base_uri": "https://localhost:8080/"
    },
    "id": "11dbdc0f",
    "outputId": "865c042b-afc9-4fda-9a45-0fd8ce6dc443"
   },
   "outputs": [
    {
     "name": "stdout",
     "output_type": "stream",
     "text": [
      "user: 4          item: 9483       r_ui = 5.00   est = 3.93   {'was_impossible': False}\n"
     ]
    },
    {
     "data": {
      "text/plain": [
       "Prediction(uid=4, iid=9483, r_ui=5, est=3.9322065599964104, details={'was_impossible': False})"
      ]
     },
     "execution_count": 27,
     "metadata": {},
     "output_type": "execute_result"
    }
   ],
   "source": [
    "# Making prediction for user_id 4 and business_id 9483\n",
    "clust_baseline.predict(4, 9483, r_ui = 5, verbose = True)"
   ]
  },
  {
   "cell_type": "markdown",
   "metadata": {
    "id": "90276146"
   },
   "source": [
    "As we can see - the **actual rating** for this **user-item pair is 5** and the **predicted rating is 3.93 by this Co-clustering based baseline model**. It seems like the model has under-estimated the rating. We will try to fix this later by tuning the hyperparameters of the model using GridSearchCV."
   ]
  },
  {
   "cell_type": "markdown",
   "metadata": {
    "id": "70e86f9c"
   },
   "source": [
    "Below we are predicting rating for the same `userId = 4` but for a restaurant which this user has not visited before, i.e., `business_id = 9980`, as shown below."
   ]
  },
  {
   "cell_type": "code",
   "execution_count": 28,
   "metadata": {
    "colab": {
     "base_uri": "https://localhost:8080/"
    },
    "id": "dab1aaed",
    "outputId": "5c9e9c56-09c1-42fb-a146-b3e538e5e74e"
   },
   "outputs": [
    {
     "name": "stdout",
     "output_type": "stream",
     "text": [
      "user: 4          item: 9980       r_ui = None   est = 4.15   {'was_impossible': False}\n"
     ]
    },
    {
     "data": {
      "text/plain": [
       "Prediction(uid=4, iid=9980, r_ui=None, est=4.14984150349537, details={'was_impossible': False})"
      ]
     },
     "execution_count": 28,
     "metadata": {},
     "output_type": "execute_result"
    }
   ],
   "source": [
    "# Making prediction for userid 4 and business_id 9980\n",
    "clust_baseline.predict(4, 9980, verbose = True)"
   ]
  },
  {
   "cell_type": "markdown",
   "metadata": {
    "id": "8d23fe95"
   },
   "source": [
    "We can see that **estimated rating** for this user-item pair is 3.70 based on this Co-clustering based baseline model."
   ]
  },
  {
   "cell_type": "markdown",
   "metadata": {
    "id": "c2fd66f5"
   },
   "source": [
    "### **Improving clustering based recommendation system by tuning its hyper-parameters**"
   ]
  },
  {
   "cell_type": "markdown",
   "metadata": {
    "id": "5bc7c680"
   },
   "source": [
    "Below we will be tuning hyper-parameters for the `CoClustering` algorithms. Let's try to understand different hyperparameters of this algorithm."
   ]
  },
  {
   "cell_type": "markdown",
   "metadata": {
    "id": "31d97b16"
   },
   "source": [
    "- **n_cltr_u** (int) – Number of **user clusters**. The default value is 3.\n",
    "- **n_cltr_i** (int) – Number of **item clusters**. The default value is 3.\n",
    "- **n_epochs** (int) – Number of **iteration of the optimization loop**. The default value is 20.\n",
    "- **random_state** (int, RandomState instance from NumPy, or None) – Determines the RNG that will be used for initialization. If int, random_state will be used as a seed for a new RNG. This is useful to get the same initialization over multiple calls to fit(). If RandomState instance, this same instance is used as RNG. If None, the current RNG from numpy is used. The default value is None.\n",
    "- **verbose** (bool) – If True, the current epoch will be printed. The default value is False."
   ]
  },
  {
   "cell_type": "code",
   "execution_count": 29,
   "metadata": {
    "colab": {
     "base_uri": "https://localhost:8080/"
    },
    "id": "efe7d8e6",
    "outputId": "2945ed23-9846-4a82-87c7-3a2a4c688024"
   },
   "outputs": [
    {
     "name": "stdout",
     "output_type": "stream",
     "text": [
      "1.0070751643767089\n",
      "{'n_cltr_u': 3, 'n_cltr_i': 3, 'n_epochs': 30}\n"
     ]
    }
   ],
   "source": [
    "# Set the parameter space to tune\n",
    "param_grid = {'n_cltr_u': [3, 4, 5, 6], 'n_cltr_i': [3, 4, 5, 6], 'n_epochs': [30, 40, 50]}\n",
    "\n",
    "# Performing 3-fold gridsearch cross validation\n",
    "gs = GridSearchCV(CoClustering, param_grid, measures = ['rmse'], cv = 3, n_jobs = -1)\n",
    "\n",
    "# Fitting data\n",
    "gs.fit(data)\n",
    "\n",
    "# Print the best RMSE score\n",
    "print(gs.best_score['rmse'])\n",
    "\n",
    "# Print the combination of parameters that gave the best RMSE score\n",
    "print(gs.best_params['rmse'])"
   ]
  },
  {
   "cell_type": "markdown",
   "metadata": {
    "id": "568aeef9"
   },
   "source": [
    "Once the grid search is **complete**, we can get the **optimal values** for each of those hyper-parameters as shown above."
   ]
  },
  {
   "cell_type": "markdown",
   "metadata": {
    "id": "06d378d1"
   },
   "source": [
    "Now we will build **final model** by using tuned values of the hyperparameters which we received by using grid search cross-validation."
   ]
  },
  {
   "cell_type": "code",
   "execution_count": 30,
   "metadata": {
    "colab": {
     "base_uri": "https://localhost:8080/"
    },
    "id": "5a7a8a30",
    "outputId": "15aff5e7-65f0-414d-9cfc-c31976911ed0"
   },
   "outputs": [
    {
     "name": "stdout",
     "output_type": "stream",
     "text": [
      "RMSE: 0.9997\n",
      "Precision:  0.799\n",
      "Recall:  0.382\n",
      "F_1 score:  0.517\n"
     ]
    }
   ],
   "source": [
    "# Using tuned Coclustering algorithm\n",
    "clust_tuned = CoClustering(n_cltr_u = 3,n_cltr_i = 3, n_epochs = 40, random_state = 1)\n",
    "\n",
    "# Training the algorithm on the trainset\n",
    "clust_tuned.fit(trainset)\n",
    "\n",
    "# Let us compute precision@k and recall@k with k = 10\n",
    "precision_recall_at_k(clust_tuned)"
   ]
  },
  {
   "cell_type": "markdown",
   "metadata": {
    "id": "9ec38e2a"
   },
   "source": [
    "- We can see that the **F_1 score** for **tuned co-clustering model** on testset is **comparable with F_1 score** for baseline Co-clustering model. The model performance has not improved by much."
   ]
  },
  {
   "cell_type": "markdown",
   "metadata": {
    "id": "e04c0665"
   },
   "source": [
    "Let's now **predict rating** for a user with `userId = 4` and for `business_id = 9483` as shown below.Here the user has already rated the restaurant."
   ]
  },
  {
   "cell_type": "code",
   "execution_count": 31,
   "metadata": {
    "colab": {
     "base_uri": "https://localhost:8080/"
    },
    "id": "6ba5b26b",
    "outputId": "51d3866f-3059-4dff-e2f8-fcce1e44bb0e"
   },
   "outputs": [
    {
     "name": "stdout",
     "output_type": "stream",
     "text": [
      "user: 4          item: 9483       r_ui = 5.00   est = 3.93   {'was_impossible': False}\n"
     ]
    },
    {
     "data": {
      "text/plain": [
       "Prediction(uid=4, iid=9483, r_ui=5, est=3.931829909862712, details={'was_impossible': False})"
      ]
     },
     "execution_count": 31,
     "metadata": {},
     "output_type": "execute_result"
    }
   ],
   "source": [
    "# Using co_clustering_optimized model to recommend for userId 4 and business_id 9483\n",
    "clust_tuned.predict(4, 9483, r_ui = 5, verbose = True)"
   ]
  },
  {
   "cell_type": "markdown",
   "metadata": {
    "id": "28ZRhktvncDp"
   },
   "source": [
    "Below we are predicting rating for the same `userId = 4` but for a restaurant which this user has not visited before, i.e., `business_id = 9980`, as shown below."
   ]
  },
  {
   "cell_type": "code",
   "execution_count": 32,
   "metadata": {
    "colab": {
     "base_uri": "https://localhost:8080/"
    },
    "id": "ec582940",
    "outputId": "02e0130e-0b19-492a-f14e-52577b91daee"
   },
   "outputs": [
    {
     "name": "stdout",
     "output_type": "stream",
     "text": [
      "user: 4          item: 9980       r_ui = None   est = 4.15   {'was_impossible': False}\n"
     ]
    },
    {
     "data": {
      "text/plain": [
       "Prediction(uid=4, iid=9980, r_ui=None, est=4.1497353828706585, details={'was_impossible': False})"
      ]
     },
     "execution_count": 32,
     "metadata": {},
     "output_type": "execute_result"
    }
   ],
   "source": [
    "# Using Co_clustering based optimized model to recommend for userId 4 and business_id 9980 with unknown baseline rating\n",
    "clust_tuned.predict(4, 9980, verbose = True)"
   ]
  },
  {
   "cell_type": "markdown",
   "metadata": {
    "id": "df9e28ba"
   },
   "source": [
    "### **Implementing the recommendation algorithm based on optimized KNNBasic model**"
   ]
  },
  {
   "cell_type": "markdown",
   "metadata": {
    "id": "4bbbdf9d"
   },
   "source": [
    "The input parameters of the below function are as follows.\n",
    "\n",
    "- data: A **rating** dataset\n",
    "- user_id: A user id **against which we want the recommendations**\n",
    "- top_n: The **number of restaurants we want to recommend**\n",
    "- algo: The algorithm we want to use **for predicting the ratings**\n",
    "- The output of the function is a **set of top_n items** recommended for the given user_id based on the given algorithm"
   ]
  },
  {
   "cell_type": "code",
   "execution_count": 33,
   "metadata": {
    "id": "4b8753bc"
   },
   "outputs": [],
   "source": [
    "def get_recommendations(data, user_id, top_n, algo):\n",
    "    \n",
    "    # Creating an empty list to store the recommended restaurants ids\n",
    "    recommendations = []\n",
    "    \n",
    "    # Creating an user item interactions matrix \n",
    "    user_item_interactions_matrix = data.pivot_table(index = 'user_id', columns = 'business_id', values = 'stars')\n",
    "    \n",
    "    # Extracting those restaurants ids which the user_id has not interacted yet\n",
    "    non_interacted_restaurants = user_item_interactions_matrix.loc[user_id][user_item_interactions_matrix.loc[user_id].isnull()].index.tolist()\n",
    "    \n",
    "    # Looping through each of the restaurants ids which user_id has not interacted yet\n",
    "    for item_id in non_interacted_restaurants:\n",
    "        \n",
    "        # Predicting the ratings for those non interacted restaurants ids by this user\n",
    "        est = algo.predict(user_id, item_id).est\n",
    "        \n",
    "        # Appending the predicted ratings\n",
    "        recommendations.append((item_id, est))\n",
    "\n",
    "    # Sorting the predicted ratings in descending order\n",
    "    recommendations.sort(key = lambda x: x[1], reverse = True)\n",
    "\n",
    "    # Returing top n highest predicted rating restaurants for this user\n",
    "    return recommendations[:top_n]"
   ]
  },
  {
   "cell_type": "code",
   "execution_count": 37,
   "metadata": {
    "id": "e0f36e15"
   },
   "outputs": [],
   "source": [
    "# Getting top 5 recommendations for user_id 4 using \"Co-clustering based optimized\" algorithm\n",
    "clustering_recommendations = get_recommendations(reviews, 4, 5, clust_tuned)"
   ]
  },
  {
   "cell_type": "markdown",
   "metadata": {
    "id": "f1696941"
   },
   "source": [
    "### **Correcting the Ratings and Ranking the above restaurants"
   ]
  },
  {
   "cell_type": "markdown",
   "metadata": {
    "id": "1de9ddd8"
   },
   "source": [
    "While comparing the ratings of two products, it is not only the **ratings** that describe the **likelihood of the user to that product**. Along with the rating the **number of users who have seen that product** also becomes important to consider. Due to this, we have calculated the **\"corrected_ratings\"** for each product. Commonly higher the **\"rating_count\" of a product more it is liked by users**. To interpret the above concept, a **product rated 4 with rating_count 3 is less liked in comparison to a product rated 3 with a rating count of 50**. It has been **empirically found that the likelihood of the product is directly proportional to the inverse of the square root of the rating_count of the product**."
   ]
  },
  {
   "cell_type": "code",
   "execution_count": 38,
   "metadata": {
    "id": "2a2f430d"
   },
   "outputs": [],
   "source": [
    "def ranking_restaurants(recommendations, final_rating):\n",
    "  \n",
    "  # Sort the restaurants based on ratings count\n",
    "  ranked_restaurants = final_rating.loc[[items[0] for items in recommendations]].sort_values('rating_count', ascending = False)[['rating_count']].reset_index()\n",
    "\n",
    "  # Merge with the recommended restaurants to get predicted ratings\n",
    "  ranked_restaurants = ranked_restaurants.merge(pd.DataFrame(recommendations, columns = ['business_id', 'predicted_ratings']), on = 'business_id', how = 'inner')\n",
    "\n",
    "  # Rank the restaurants based on corrected ratings\n",
    "  ranked_restaurants['corrected_ratings'] = ranked_restaurants['predicted_ratings'] - 1 / np.sqrt(ranked_restaurants['rating_count'])\n",
    "\n",
    "  # Sort the restaurants based on corrected ratings\n",
    "  ranked_restaurants = ranked_restaurants.sort_values('corrected_ratings', ascending = False)\n",
    "  \n",
    "  return ranked_restaurants"
   ]
  },
  {
   "cell_type": "markdown",
   "metadata": {
    "id": "411fa3ff"
   },
   "source": [
    "**Note:** In the **above-corrected rating formula**, we can add the **quantity `1 / np.sqrt(n)` instead of subtracting it to get more optimistic predictions**. But here we are **subtracting this quantity**, as there are some restaurants with ratings 5 and **we can't have a rating more than 5 for a restaurant**."
   ]
  },
  {
   "cell_type": "code",
   "execution_count": 39,
   "metadata": {
    "colab": {
     "base_uri": "https://localhost:8080/",
     "height": 206
    },
    "id": "c186f13b",
    "outputId": "f6aa7495-d989-4080-f9df-b60d661c06c7",
    "scrolled": true
   },
   "outputs": [
    {
     "data": {
      "text/html": [
       "<div>\n",
       "<style scoped>\n",
       "    .dataframe tbody tr th:only-of-type {\n",
       "        vertical-align: middle;\n",
       "    }\n",
       "\n",
       "    .dataframe tbody tr th {\n",
       "        vertical-align: top;\n",
       "    }\n",
       "\n",
       "    .dataframe thead th {\n",
       "        text-align: right;\n",
       "    }\n",
       "</style>\n",
       "<table border=\"1\" class=\"dataframe\">\n",
       "  <thead>\n",
       "    <tr style=\"text-align: right;\">\n",
       "      <th></th>\n",
       "      <th>business_id</th>\n",
       "      <th>rating_count</th>\n",
       "      <th>predicted_ratings</th>\n",
       "      <th>corrected_ratings</th>\n",
       "    </tr>\n",
       "  </thead>\n",
       "  <tbody>\n",
       "    <tr>\n",
       "      <th>0</th>\n",
       "      <td>6</td>\n",
       "      <td>8</td>\n",
       "      <td>5</td>\n",
       "      <td>4.646447</td>\n",
       "    </tr>\n",
       "    <tr>\n",
       "      <th>1</th>\n",
       "      <td>8</td>\n",
       "      <td>4</td>\n",
       "      <td>5</td>\n",
       "      <td>4.500000</td>\n",
       "    </tr>\n",
       "    <tr>\n",
       "      <th>2</th>\n",
       "      <td>25</td>\n",
       "      <td>4</td>\n",
       "      <td>5</td>\n",
       "      <td>4.500000</td>\n",
       "    </tr>\n",
       "    <tr>\n",
       "      <th>3</th>\n",
       "      <td>0</td>\n",
       "      <td>2</td>\n",
       "      <td>5</td>\n",
       "      <td>4.292893</td>\n",
       "    </tr>\n",
       "    <tr>\n",
       "      <th>4</th>\n",
       "      <td>9</td>\n",
       "      <td>2</td>\n",
       "      <td>5</td>\n",
       "      <td>4.292893</td>\n",
       "    </tr>\n",
       "  </tbody>\n",
       "</table>\n",
       "</div>"
      ],
      "text/plain": [
       "   business_id  rating_count  predicted_ratings  corrected_ratings\n",
       "0            6             8                  5           4.646447\n",
       "1            8             4                  5           4.500000\n",
       "2           25             4                  5           4.500000\n",
       "3            0             2                  5           4.292893\n",
       "4            9             2                  5           4.292893"
      ]
     },
     "execution_count": 39,
     "metadata": {},
     "output_type": "execute_result"
    }
   ],
   "source": [
    "# Ranking restaurants based on above recommendations\n",
    "ranking_restaurants(clustering_recommendations, final_rating)"
   ]
  },
  {
   "cell_type": "markdown",
   "metadata": {
    "id": "rbjR5wjNnmkt"
   },
   "source": [
    "**Let us now move to the final recommendation algorithm which is named the Content-based recommendation system.**"
   ]
  },
  {
   "cell_type": "markdown",
   "metadata": {
    "id": "QD5tixLemRow"
   },
   "source": [
    "## **Content-based recommendation system**"
   ]
  },
  {
   "cell_type": "markdown",
   "metadata": {
    "id": "oY6qzoJQmRow"
   },
   "source": [
    "In a content-based recommendation system, we would be using the feature - **text**, i.e., reviews to find out similar businesses."
   ]
  },
  {
   "cell_type": "markdown",
   "metadata": {
    "id": "0QcfIpmUmRox"
   },
   "source": [
    "Text data generally contains pronunciation, stopwords, non-ASCII characters which makes it **very noisy**. So, we will first need to **pre-process the text** and then we will **generate features from the text to compute similarities** between the texts/reviews. Before that, let's see some terminology:\n",
    "\n",
    "**stopwords:** A stop word is a commonly used word (such as “the”, “a”, “an”, or “in”) that does not contain information in the text and can be ignored.\n",
    "**Lemmatization:** Lemmatization in linguistics is the process of grouping together the inflected forms of a word so they can be analyzed as a single item. For example, runs, running, and ran are all forms of the word run, therefore run is the lemma of all these words."
   ]
  },
  {
   "cell_type": "code",
   "execution_count": 40,
   "metadata": {
    "id": "vlf3UUkimRox"
   },
   "outputs": [],
   "source": [
    "# Importing regular expression\n",
    "import re\n",
    "\n",
    "# Importing word tokenize\n",
    "from nltk import word_tokenize\n",
    "\n",
    "# Importing word WordNetLemmatizer\n",
    "from nltk.stem import WordNetLemmatizer\n",
    "\n",
    "# Importing word stopwords\n",
    "from nltk.corpus import stopwords\n",
    "\n",
    "# Importing word TfidfVectorizer\n",
    "from sklearn.feature_extraction.text import TfidfVectorizer"
   ]
  },
  {
   "cell_type": "code",
   "execution_count": 41,
   "metadata": {
    "id": "HJflLPSJmRox"
   },
   "outputs": [],
   "source": [
    "def tokenize(text):\n",
    "    \n",
    "    # Making each letter as lowercase and removing non-alphabetical text\n",
    "    text = re.sub(r\"[^a-zA-Z]\", \" \", text.lower())\n",
    "    \n",
    "    # Extracting each word in the text\n",
    "    tokens = word_tokenize(text)\n",
    "    \n",
    "    # Removing stopwords\n",
    "    words = [word for word in tokens if word not in stopwords.words(\"english\")]\n",
    "    \n",
    "    # Lemmatize the words\n",
    "    text_lems = [WordNetLemmatizer().lemmatize(lem).strip() for lem in words]\n",
    "\n",
    "    return text_lems"
   ]
  },
  {
   "cell_type": "markdown",
   "metadata": {
    "id": "CgKdvygE2-yQ"
   },
   "source": [
    "### **Feature Extraction**"
   ]
  },
  {
   "cell_type": "markdown",
   "metadata": {
    "id": "iE12-0FM2-yQ"
   },
   "source": [
    "Below are some of the ways to extract features from texts.\n",
    "- Bag of words\n",
    "- TF-IDF\n",
    "- One hot encoding\n",
    "- Word vectors\n",
    "\n",
    "Here, we will be using **tfidf** as a feature extraction technique."
   ]
  },
  {
   "cell_type": "code",
   "execution_count": 79,
   "metadata": {},
   "outputs": [],
   "source": [
    "# Selecting a random subset of the original data\n",
    "reviews_small = reviews.sample(n = 1000, random_state = 42)"
   ]
  },
  {
   "cell_type": "code",
   "execution_count": 80,
   "metadata": {},
   "outputs": [
    {
     "data": {
      "text/html": [
       "<div>\n",
       "<style scoped>\n",
       "    .dataframe tbody tr th:only-of-type {\n",
       "        vertical-align: middle;\n",
       "    }\n",
       "\n",
       "    .dataframe tbody tr th {\n",
       "        vertical-align: top;\n",
       "    }\n",
       "\n",
       "    .dataframe thead th {\n",
       "        text-align: right;\n",
       "    }\n",
       "</style>\n",
       "<table border=\"1\" class=\"dataframe\">\n",
       "  <thead>\n",
       "    <tr style=\"text-align: right;\">\n",
       "      <th></th>\n",
       "      <th>business_id</th>\n",
       "      <th>business_name</th>\n",
       "      <th>stars</th>\n",
       "      <th>text</th>\n",
       "      <th>user_id</th>\n",
       "    </tr>\n",
       "  </thead>\n",
       "  <tbody>\n",
       "    <tr>\n",
       "      <th>4352941</th>\n",
       "      <td>24043</td>\n",
       "      <td>Joclyn's</td>\n",
       "      <td>3.0</td>\n",
       "      <td>You know its bad that I couldn't even remember...</td>\n",
       "      <td>1219</td>\n",
       "    </tr>\n",
       "    <tr>\n",
       "      <th>3649550</th>\n",
       "      <td>44850</td>\n",
       "      <td>Red Mesa Cantina</td>\n",
       "      <td>3.0</td>\n",
       "      <td>Came here for a quick Sunday lunch. It was kin...</td>\n",
       "      <td>2519</td>\n",
       "    </tr>\n",
       "    <tr>\n",
       "      <th>5122762</th>\n",
       "      <td>54194</td>\n",
       "      <td>Wabi Sabi</td>\n",
       "      <td>5.0</td>\n",
       "      <td>This is the 3rd time I've had Wabi Sabi and it...</td>\n",
       "      <td>2236</td>\n",
       "    </tr>\n",
       "    <tr>\n",
       "      <th>1026316</th>\n",
       "      <td>27046</td>\n",
       "      <td>The Eagle</td>\n",
       "      <td>4.0</td>\n",
       "      <td>Pretty good place to eat and drink, especially...</td>\n",
       "      <td>2847</td>\n",
       "    </tr>\n",
       "    <tr>\n",
       "      <th>1647384</th>\n",
       "      <td>24516</td>\n",
       "      <td>Deanie's Seafood</td>\n",
       "      <td>4.0</td>\n",
       "      <td>Finally fulfilled my craving for crawfish here...</td>\n",
       "      <td>1300</td>\n",
       "    </tr>\n",
       "    <tr>\n",
       "      <th>...</th>\n",
       "      <td>...</td>\n",
       "      <td>...</td>\n",
       "      <td>...</td>\n",
       "      <td>...</td>\n",
       "      <td>...</td>\n",
       "    </tr>\n",
       "    <tr>\n",
       "      <th>864223</th>\n",
       "      <td>17953</td>\n",
       "      <td>A&amp;M Bakery Cafe</td>\n",
       "      <td>4.0</td>\n",
       "      <td>Independently owned and operated. Small hole i...</td>\n",
       "      <td>159</td>\n",
       "    </tr>\n",
       "    <tr>\n",
       "      <th>4299960</th>\n",
       "      <td>13721</td>\n",
       "      <td>Brasserie by Niche</td>\n",
       "      <td>4.0</td>\n",
       "      <td>Came here for Dinner on a Tuesday and then Bru...</td>\n",
       "      <td>2584</td>\n",
       "    </tr>\n",
       "    <tr>\n",
       "      <th>2278502</th>\n",
       "      <td>13298</td>\n",
       "      <td>New York New York Pizza</td>\n",
       "      <td>4.0</td>\n",
       "      <td>The pizza is New York style, thin crust and ta...</td>\n",
       "      <td>1330</td>\n",
       "    </tr>\n",
       "    <tr>\n",
       "      <th>3855194</th>\n",
       "      <td>9878</td>\n",
       "      <td>Papa Joe's Sub Shop</td>\n",
       "      <td>3.0</td>\n",
       "      <td>Came by on Friday afternoon, very slow. We got...</td>\n",
       "      <td>391</td>\n",
       "    </tr>\n",
       "    <tr>\n",
       "      <th>4975470</th>\n",
       "      <td>31562</td>\n",
       "      <td>Saint Benjamin Brewing Company</td>\n",
       "      <td>4.0</td>\n",
       "      <td>We had such a great time at Saint Benjamin Bre...</td>\n",
       "      <td>734</td>\n",
       "    </tr>\n",
       "  </tbody>\n",
       "</table>\n",
       "<p>1000 rows × 5 columns</p>\n",
       "</div>"
      ],
      "text/plain": [
       "         business_id                   business_name  stars  \\\n",
       "4352941        24043                        Joclyn's    3.0   \n",
       "3649550        44850                Red Mesa Cantina    3.0   \n",
       "5122762        54194                       Wabi Sabi    5.0   \n",
       "1026316        27046                       The Eagle    4.0   \n",
       "1647384        24516                Deanie's Seafood    4.0   \n",
       "...              ...                             ...    ...   \n",
       "864223         17953                 A&M Bakery Cafe    4.0   \n",
       "4299960        13721              Brasserie by Niche    4.0   \n",
       "2278502        13298         New York New York Pizza    4.0   \n",
       "3855194         9878             Papa Joe's Sub Shop    3.0   \n",
       "4975470        31562  Saint Benjamin Brewing Company    4.0   \n",
       "\n",
       "                                                      text  user_id  \n",
       "4352941  You know its bad that I couldn't even remember...     1219  \n",
       "3649550  Came here for a quick Sunday lunch. It was kin...     2519  \n",
       "5122762  This is the 3rd time I've had Wabi Sabi and it...     2236  \n",
       "1026316  Pretty good place to eat and drink, especially...     2847  \n",
       "1647384  Finally fulfilled my craving for crawfish here...     1300  \n",
       "...                                                    ...      ...  \n",
       "864223   Independently owned and operated. Small hole i...      159  \n",
       "4299960  Came here for Dinner on a Tuesday and then Bru...     2584  \n",
       "2278502  The pizza is New York style, thin crust and ta...     1330  \n",
       "3855194  Came by on Friday afternoon, very slow. We got...      391  \n",
       "4975470  We had such a great time at Saint Benjamin Bre...      734  \n",
       "\n",
       "[1000 rows x 5 columns]"
      ]
     },
     "execution_count": 80,
     "metadata": {},
     "output_type": "execute_result"
    }
   ],
   "source": [
    "# Selecting a random subset of the original data\n",
    "reviews_small"
   ]
  },
  {
   "cell_type": "code",
   "execution_count": 81,
   "metadata": {},
   "outputs": [
    {
     "name": "stdout",
     "output_type": "stream",
     "text": [
      "Restaurant(s) with the highest rating:\n",
      "         business_id                     business_name  stars  \\\n",
      "5122762        54194                         Wabi Sabi    5.0   \n",
      "1262906        31676                     KC's Pastries    5.0   \n",
      "2511355        50442                           317 BBQ    5.0   \n",
      "3974586         9625               Restaurant Andiario    5.0   \n",
      "2425917        54180           Stein's Market and Deli    5.0   \n",
      "...              ...                               ...    ...   \n",
      "973842         40497                        China King    5.0   \n",
      "3897216        45153  Nan Zhou Hand Drawn Noodle House    5.0   \n",
      "4986326        53416                         Blackbird    5.0   \n",
      "1175892        33032     Pearings Cafe + Frozen Yogurt    5.0   \n",
      "2395009        26495                Fortel's Pizza Den    5.0   \n",
      "\n",
      "                                                      text  user_id  \n",
      "5122762  This is the 3rd time I've had Wabi Sabi and it...     2236  \n",
      "1262906  My absolute favorite bakery in Chinatown! So c...      339  \n",
      "2511355  We were blown away!! My husband and I had lunc...     1920  \n",
      "3974586  Do need to note, we visited during the COVID p...      622  \n",
      "2425917  Friends, yall already know this place has bomb...     2369  \n",
      "...                                                    ...      ...  \n",
      "973842   Love the Pho here! Didn't have to ask for more...     1945  \n",
      "3897216  Two things bring me here:\\n\\n* Extremely cheap...      680  \n",
      "4986326  Located on the State Street side of the Hotel ...     1613  \n",
      "1175892  We LOVE PEARings, we go there all the time to ...     1485  \n",
      "2395009  Aww yeah!  Fortel's is pretty freakin great fo...     1666  \n",
      "\n",
      "[279 rows x 5 columns]\n"
     ]
    }
   ],
   "source": [
    "# Find the restaurant with the highest rating\n",
    "highest_rating = reviews_small['stars'].max()\n",
    "\n",
    "# Filter the dataset to get the restaurant(s) with the highest rating\n",
    "restaurant_highest_rating = reviews_small[reviews_small['stars'] == highest_rating]\n",
    "\n",
    "# Print the restaurant(s) with the highest rating\n",
    "print(\"Restaurant(s) with the highest rating:\")\n",
    "print(restaurant_highest_rating)\n"
   ]
  },
  {
   "cell_type": "code",
   "execution_count": 84,
   "metadata": {
    "colab": {
     "base_uri": "https://localhost:8080/"
    },
    "id": "Ra_zcnEAmRox",
    "outputId": "24bf620d-6036-45d1-d237-1b6bb49405a4"
   },
   "outputs": [
    {
     "data": {
      "text/plain": [
       "0            Joclyn's\n",
       "1    Red Mesa Cantina\n",
       "2           Wabi Sabi\n",
       "3           The Eagle\n",
       "4    Deanie's Seafood\n",
       "Name: business_name, dtype: object"
      ]
     },
     "execution_count": 84,
     "metadata": {},
     "output_type": "execute_result"
    }
   ],
   "source": [
    "# Selecting a random subset of the original data\n",
    "reviews_subset = reviews.sample(n = 1000, random_state = 42)\n",
    "\n",
    "# Setting the index\n",
    "reviews_small = reviews_subset.set_index('business_name')\n",
    "\n",
    "# Creating the indices object\n",
    "indices = pd.Series(reviews_small.index)\n",
    "\n",
    "# Let us see the first 5 indices\n",
    "indices[:5]"
   ]
  },
  {
   "cell_type": "code",
   "execution_count": 85,
   "metadata": {},
   "outputs": [],
   "source": [
    "# Import nltk\n",
    "import nltk"
   ]
  },
  {
   "cell_type": "code",
   "execution_count": 86,
   "metadata": {},
   "outputs": [
    {
     "name": "stderr",
     "output_type": "stream",
     "text": [
      "[nltk_data] Downloading package omw-1.4 to\n",
      "[nltk_data]     C:\\Users\\isabe\\AppData\\Roaming\\nltk_data...\n",
      "[nltk_data]   Package omw-1.4 is already up-to-date!\n"
     ]
    },
    {
     "data": {
      "text/plain": [
       "True"
      ]
     },
     "execution_count": 86,
     "metadata": {},
     "output_type": "execute_result"
    }
   ],
   "source": [
    "nltk.download('omw-1.4')"
   ]
  },
  {
   "cell_type": "code",
   "execution_count": 87,
   "metadata": {
    "colab": {
     "base_uri": "https://localhost:8080/"
    },
    "id": "cxvkmMIexDZM",
    "outputId": "36545fdd-3487-4bc7-b6ea-b9d6a43c15be"
   },
   "outputs": [
    {
     "name": "stderr",
     "output_type": "stream",
     "text": [
      "[nltk_data] Downloading package punkt to\n",
      "[nltk_data]     C:\\Users\\isabe\\AppData\\Roaming\\nltk_data...\n",
      "[nltk_data]   Package punkt is already up-to-date!\n",
      "[nltk_data] Downloading package stopwords to\n",
      "[nltk_data]     C:\\Users\\isabe\\AppData\\Roaming\\nltk_data...\n",
      "[nltk_data]   Package stopwords is already up-to-date!\n",
      "[nltk_data] Downloading package wordnet to\n",
      "[nltk_data]     C:\\Users\\isabe\\AppData\\Roaming\\nltk_data...\n",
      "[nltk_data]   Package wordnet is already up-to-date!\n"
     ]
    },
    {
     "data": {
      "text/plain": [
       "True"
      ]
     },
     "execution_count": 87,
     "metadata": {},
     "output_type": "execute_result"
    }
   ],
   "source": [
    "# Downlaod the punkt for punctuation\n",
    "nltk.download(\"punkt\")\n",
    "\n",
    "# Downlaod the stopwords\n",
    "nltk.download('stopwords')\n",
    "\n",
    "# Download the wordnet\n",
    "nltk.download('wordnet')"
   ]
  },
  {
   "cell_type": "code",
   "execution_count": 88,
   "metadata": {
    "id": "-L3NOAZimRox"
   },
   "outputs": [],
   "source": [
    "# Create the TfidfVectorizer\n",
    "tfidf = TfidfVectorizer(tokenizer = tokenize)\n",
    "\n",
    "review_tfidf = tfidf.fit_transform(reviews_small['text'].values).toarray()"
   ]
  },
  {
   "cell_type": "code",
   "execution_count": 89,
   "metadata": {
    "colab": {
     "base_uri": "https://localhost:8080/",
     "height": 424
    },
    "id": "Ej00nZ9o2-yQ",
    "outputId": "0b02bc75-c58c-4a0e-eb3f-0144cc81da32"
   },
   "outputs": [
    {
     "data": {
      "text/html": [
       "<div>\n",
       "<style scoped>\n",
       "    .dataframe tbody tr th:only-of-type {\n",
       "        vertical-align: middle;\n",
       "    }\n",
       "\n",
       "    .dataframe tbody tr th {\n",
       "        vertical-align: top;\n",
       "    }\n",
       "\n",
       "    .dataframe thead th {\n",
       "        text-align: right;\n",
       "    }\n",
       "</style>\n",
       "<table border=\"1\" class=\"dataframe\">\n",
       "  <thead>\n",
       "    <tr style=\"text-align: right;\">\n",
       "      <th></th>\n",
       "      <th>0</th>\n",
       "      <th>1</th>\n",
       "      <th>2</th>\n",
       "      <th>3</th>\n",
       "      <th>4</th>\n",
       "      <th>5</th>\n",
       "      <th>6</th>\n",
       "      <th>7</th>\n",
       "      <th>8</th>\n",
       "      <th>9</th>\n",
       "      <th>...</th>\n",
       "      <th>8619</th>\n",
       "      <th>8620</th>\n",
       "      <th>8621</th>\n",
       "      <th>8622</th>\n",
       "      <th>8623</th>\n",
       "      <th>8624</th>\n",
       "      <th>8625</th>\n",
       "      <th>8626</th>\n",
       "      <th>8627</th>\n",
       "      <th>8628</th>\n",
       "    </tr>\n",
       "  </thead>\n",
       "  <tbody>\n",
       "    <tr>\n",
       "      <th>0</th>\n",
       "      <td>0.0</td>\n",
       "      <td>0.0</td>\n",
       "      <td>0.0</td>\n",
       "      <td>0.0</td>\n",
       "      <td>0.0</td>\n",
       "      <td>0.0</td>\n",
       "      <td>0.0</td>\n",
       "      <td>0.0</td>\n",
       "      <td>0.0</td>\n",
       "      <td>0.0</td>\n",
       "      <td>...</td>\n",
       "      <td>0.0</td>\n",
       "      <td>0.0</td>\n",
       "      <td>0.0</td>\n",
       "      <td>0.0</td>\n",
       "      <td>0.0</td>\n",
       "      <td>0.0</td>\n",
       "      <td>0.0</td>\n",
       "      <td>0.0</td>\n",
       "      <td>0.0</td>\n",
       "      <td>0.0</td>\n",
       "    </tr>\n",
       "    <tr>\n",
       "      <th>1</th>\n",
       "      <td>0.0</td>\n",
       "      <td>0.0</td>\n",
       "      <td>0.0</td>\n",
       "      <td>0.0</td>\n",
       "      <td>0.0</td>\n",
       "      <td>0.0</td>\n",
       "      <td>0.0</td>\n",
       "      <td>0.0</td>\n",
       "      <td>0.0</td>\n",
       "      <td>0.0</td>\n",
       "      <td>...</td>\n",
       "      <td>0.0</td>\n",
       "      <td>0.0</td>\n",
       "      <td>0.0</td>\n",
       "      <td>0.0</td>\n",
       "      <td>0.0</td>\n",
       "      <td>0.0</td>\n",
       "      <td>0.0</td>\n",
       "      <td>0.0</td>\n",
       "      <td>0.0</td>\n",
       "      <td>0.0</td>\n",
       "    </tr>\n",
       "    <tr>\n",
       "      <th>2</th>\n",
       "      <td>0.0</td>\n",
       "      <td>0.0</td>\n",
       "      <td>0.0</td>\n",
       "      <td>0.0</td>\n",
       "      <td>0.0</td>\n",
       "      <td>0.0</td>\n",
       "      <td>0.0</td>\n",
       "      <td>0.0</td>\n",
       "      <td>0.0</td>\n",
       "      <td>0.0</td>\n",
       "      <td>...</td>\n",
       "      <td>0.0</td>\n",
       "      <td>0.0</td>\n",
       "      <td>0.0</td>\n",
       "      <td>0.0</td>\n",
       "      <td>0.0</td>\n",
       "      <td>0.0</td>\n",
       "      <td>0.0</td>\n",
       "      <td>0.0</td>\n",
       "      <td>0.0</td>\n",
       "      <td>0.0</td>\n",
       "    </tr>\n",
       "    <tr>\n",
       "      <th>3</th>\n",
       "      <td>0.0</td>\n",
       "      <td>0.0</td>\n",
       "      <td>0.0</td>\n",
       "      <td>0.0</td>\n",
       "      <td>0.0</td>\n",
       "      <td>0.0</td>\n",
       "      <td>0.0</td>\n",
       "      <td>0.0</td>\n",
       "      <td>0.0</td>\n",
       "      <td>0.0</td>\n",
       "      <td>...</td>\n",
       "      <td>0.0</td>\n",
       "      <td>0.0</td>\n",
       "      <td>0.0</td>\n",
       "      <td>0.0</td>\n",
       "      <td>0.0</td>\n",
       "      <td>0.0</td>\n",
       "      <td>0.0</td>\n",
       "      <td>0.0</td>\n",
       "      <td>0.0</td>\n",
       "      <td>0.0</td>\n",
       "    </tr>\n",
       "    <tr>\n",
       "      <th>4</th>\n",
       "      <td>0.0</td>\n",
       "      <td>0.0</td>\n",
       "      <td>0.0</td>\n",
       "      <td>0.0</td>\n",
       "      <td>0.0</td>\n",
       "      <td>0.0</td>\n",
       "      <td>0.0</td>\n",
       "      <td>0.0</td>\n",
       "      <td>0.0</td>\n",
       "      <td>0.0</td>\n",
       "      <td>...</td>\n",
       "      <td>0.0</td>\n",
       "      <td>0.0</td>\n",
       "      <td>0.0</td>\n",
       "      <td>0.0</td>\n",
       "      <td>0.0</td>\n",
       "      <td>0.0</td>\n",
       "      <td>0.0</td>\n",
       "      <td>0.0</td>\n",
       "      <td>0.0</td>\n",
       "      <td>0.0</td>\n",
       "    </tr>\n",
       "    <tr>\n",
       "      <th>...</th>\n",
       "      <td>...</td>\n",
       "      <td>...</td>\n",
       "      <td>...</td>\n",
       "      <td>...</td>\n",
       "      <td>...</td>\n",
       "      <td>...</td>\n",
       "      <td>...</td>\n",
       "      <td>...</td>\n",
       "      <td>...</td>\n",
       "      <td>...</td>\n",
       "      <td>...</td>\n",
       "      <td>...</td>\n",
       "      <td>...</td>\n",
       "      <td>...</td>\n",
       "      <td>...</td>\n",
       "      <td>...</td>\n",
       "      <td>...</td>\n",
       "      <td>...</td>\n",
       "      <td>...</td>\n",
       "      <td>...</td>\n",
       "      <td>...</td>\n",
       "    </tr>\n",
       "    <tr>\n",
       "      <th>995</th>\n",
       "      <td>0.0</td>\n",
       "      <td>0.0</td>\n",
       "      <td>0.0</td>\n",
       "      <td>0.0</td>\n",
       "      <td>0.0</td>\n",
       "      <td>0.0</td>\n",
       "      <td>0.0</td>\n",
       "      <td>0.0</td>\n",
       "      <td>0.0</td>\n",
       "      <td>0.0</td>\n",
       "      <td>...</td>\n",
       "      <td>0.0</td>\n",
       "      <td>0.0</td>\n",
       "      <td>0.0</td>\n",
       "      <td>0.0</td>\n",
       "      <td>0.0</td>\n",
       "      <td>0.0</td>\n",
       "      <td>0.0</td>\n",
       "      <td>0.0</td>\n",
       "      <td>0.0</td>\n",
       "      <td>0.0</td>\n",
       "    </tr>\n",
       "    <tr>\n",
       "      <th>996</th>\n",
       "      <td>0.0</td>\n",
       "      <td>0.0</td>\n",
       "      <td>0.0</td>\n",
       "      <td>0.0</td>\n",
       "      <td>0.0</td>\n",
       "      <td>0.0</td>\n",
       "      <td>0.0</td>\n",
       "      <td>0.0</td>\n",
       "      <td>0.0</td>\n",
       "      <td>0.0</td>\n",
       "      <td>...</td>\n",
       "      <td>0.0</td>\n",
       "      <td>0.0</td>\n",
       "      <td>0.0</td>\n",
       "      <td>0.0</td>\n",
       "      <td>0.0</td>\n",
       "      <td>0.0</td>\n",
       "      <td>0.0</td>\n",
       "      <td>0.0</td>\n",
       "      <td>0.0</td>\n",
       "      <td>0.0</td>\n",
       "    </tr>\n",
       "    <tr>\n",
       "      <th>997</th>\n",
       "      <td>0.0</td>\n",
       "      <td>0.0</td>\n",
       "      <td>0.0</td>\n",
       "      <td>0.0</td>\n",
       "      <td>0.0</td>\n",
       "      <td>0.0</td>\n",
       "      <td>0.0</td>\n",
       "      <td>0.0</td>\n",
       "      <td>0.0</td>\n",
       "      <td>0.0</td>\n",
       "      <td>...</td>\n",
       "      <td>0.0</td>\n",
       "      <td>0.0</td>\n",
       "      <td>0.0</td>\n",
       "      <td>0.0</td>\n",
       "      <td>0.0</td>\n",
       "      <td>0.0</td>\n",
       "      <td>0.0</td>\n",
       "      <td>0.0</td>\n",
       "      <td>0.0</td>\n",
       "      <td>0.0</td>\n",
       "    </tr>\n",
       "    <tr>\n",
       "      <th>998</th>\n",
       "      <td>0.0</td>\n",
       "      <td>0.0</td>\n",
       "      <td>0.0</td>\n",
       "      <td>0.0</td>\n",
       "      <td>0.0</td>\n",
       "      <td>0.0</td>\n",
       "      <td>0.0</td>\n",
       "      <td>0.0</td>\n",
       "      <td>0.0</td>\n",
       "      <td>0.0</td>\n",
       "      <td>...</td>\n",
       "      <td>0.0</td>\n",
       "      <td>0.0</td>\n",
       "      <td>0.0</td>\n",
       "      <td>0.0</td>\n",
       "      <td>0.0</td>\n",
       "      <td>0.0</td>\n",
       "      <td>0.0</td>\n",
       "      <td>0.0</td>\n",
       "      <td>0.0</td>\n",
       "      <td>0.0</td>\n",
       "    </tr>\n",
       "    <tr>\n",
       "      <th>999</th>\n",
       "      <td>0.0</td>\n",
       "      <td>0.0</td>\n",
       "      <td>0.0</td>\n",
       "      <td>0.0</td>\n",
       "      <td>0.0</td>\n",
       "      <td>0.0</td>\n",
       "      <td>0.0</td>\n",
       "      <td>0.0</td>\n",
       "      <td>0.0</td>\n",
       "      <td>0.0</td>\n",
       "      <td>...</td>\n",
       "      <td>0.0</td>\n",
       "      <td>0.0</td>\n",
       "      <td>0.0</td>\n",
       "      <td>0.0</td>\n",
       "      <td>0.0</td>\n",
       "      <td>0.0</td>\n",
       "      <td>0.0</td>\n",
       "      <td>0.0</td>\n",
       "      <td>0.0</td>\n",
       "      <td>0.0</td>\n",
       "    </tr>\n",
       "  </tbody>\n",
       "</table>\n",
       "<p>1000 rows × 8629 columns</p>\n",
       "</div>"
      ],
      "text/plain": [
       "     0     1     2     3     4     5     6     7     8     9     ...  8619  \\\n",
       "0     0.0   0.0   0.0   0.0   0.0   0.0   0.0   0.0   0.0   0.0  ...   0.0   \n",
       "1     0.0   0.0   0.0   0.0   0.0   0.0   0.0   0.0   0.0   0.0  ...   0.0   \n",
       "2     0.0   0.0   0.0   0.0   0.0   0.0   0.0   0.0   0.0   0.0  ...   0.0   \n",
       "3     0.0   0.0   0.0   0.0   0.0   0.0   0.0   0.0   0.0   0.0  ...   0.0   \n",
       "4     0.0   0.0   0.0   0.0   0.0   0.0   0.0   0.0   0.0   0.0  ...   0.0   \n",
       "..    ...   ...   ...   ...   ...   ...   ...   ...   ...   ...  ...   ...   \n",
       "995   0.0   0.0   0.0   0.0   0.0   0.0   0.0   0.0   0.0   0.0  ...   0.0   \n",
       "996   0.0   0.0   0.0   0.0   0.0   0.0   0.0   0.0   0.0   0.0  ...   0.0   \n",
       "997   0.0   0.0   0.0   0.0   0.0   0.0   0.0   0.0   0.0   0.0  ...   0.0   \n",
       "998   0.0   0.0   0.0   0.0   0.0   0.0   0.0   0.0   0.0   0.0  ...   0.0   \n",
       "999   0.0   0.0   0.0   0.0   0.0   0.0   0.0   0.0   0.0   0.0  ...   0.0   \n",
       "\n",
       "     8620  8621  8622  8623  8624  8625  8626  8627  8628  \n",
       "0     0.0   0.0   0.0   0.0   0.0   0.0   0.0   0.0   0.0  \n",
       "1     0.0   0.0   0.0   0.0   0.0   0.0   0.0   0.0   0.0  \n",
       "2     0.0   0.0   0.0   0.0   0.0   0.0   0.0   0.0   0.0  \n",
       "3     0.0   0.0   0.0   0.0   0.0   0.0   0.0   0.0   0.0  \n",
       "4     0.0   0.0   0.0   0.0   0.0   0.0   0.0   0.0   0.0  \n",
       "..    ...   ...   ...   ...   ...   ...   ...   ...   ...  \n",
       "995   0.0   0.0   0.0   0.0   0.0   0.0   0.0   0.0   0.0  \n",
       "996   0.0   0.0   0.0   0.0   0.0   0.0   0.0   0.0   0.0  \n",
       "997   0.0   0.0   0.0   0.0   0.0   0.0   0.0   0.0   0.0  \n",
       "998   0.0   0.0   0.0   0.0   0.0   0.0   0.0   0.0   0.0  \n",
       "999   0.0   0.0   0.0   0.0   0.0   0.0   0.0   0.0   0.0  \n",
       "\n",
       "[1000 rows x 8629 columns]"
      ]
     },
     "execution_count": 89,
     "metadata": {},
     "output_type": "execute_result"
    }
   ],
   "source": [
    "# Let us view the review_tfidf dataframe\n",
    "pd.DataFrame(review_tfidf)"
   ]
  },
  {
   "cell_type": "markdown",
   "metadata": {
    "id": "H7H6hpa-2-yR"
   },
   "source": [
    "We have extracted **8629 features** from the text data. Now, we can find similarities between businesses using these features. We will use cosine similarity to calculate the similarity."
   ]
  },
  {
   "cell_type": "code",
   "execution_count": 90,
   "metadata": {
    "colab": {
     "base_uri": "https://localhost:8080/"
    },
    "id": "Dq_pI74GmRox",
    "outputId": "26a1ee0f-6b17-44d8-d841-7676c10e472b"
   },
   "outputs": [
    {
     "data": {
      "text/plain": [
       "array([[1.        , 0.01201926, 0.03013148, ..., 0.01004682, 0.02852451,\n",
       "        0.02044499],\n",
       "       [0.01201926, 1.        , 0.01485418, ..., 0.01193416, 0.05631335,\n",
       "        0.02498969],\n",
       "       [0.03013148, 0.01485418, 1.        , ..., 0.00525395, 0.02597347,\n",
       "        0.01576876],\n",
       "       ...,\n",
       "       [0.01004682, 0.01193416, 0.00525395, ..., 1.        , 0.04180027,\n",
       "        0.04295381],\n",
       "       [0.02852451, 0.05631335, 0.02597347, ..., 0.04180027, 1.        ,\n",
       "        0.08076952],\n",
       "       [0.02044499, 0.02498969, 0.01576876, ..., 0.04295381, 0.08076952,\n",
       "        1.        ]])"
      ]
     },
     "execution_count": 90,
     "metadata": {},
     "output_type": "execute_result"
    }
   ],
   "source": [
    "similar_review = cosine_similarity(review_tfidf, review_tfidf)\n",
    "similar_review"
   ]
  },
  {
   "cell_type": "markdown",
   "metadata": {
    "id": "HITTERec2-yR"
   },
   "source": [
    "**Finally, let's create a function to find most similar businesses to recommend for a given business.**"
   ]
  },
  {
   "cell_type": "code",
   "execution_count": 91,
   "metadata": {
    "id": "e37w0iHq2-yR"
   },
   "outputs": [],
   "source": [
    "# Function that takes in business title as input and returns the top 10 recommended businesses\n",
    "def recommendations(title, similar_review):\n",
    "    \n",
    "    recommended_businesses = []\n",
    "    \n",
    "    indices = pd.Series(reviews_small.index)\n",
    "    \n",
    "    # Getting the index of the business that matches the title\n",
    "    idx = indices[indices == title].index[0]\n",
    "\n",
    "    # Creating a Series with the similarity scores in descending order\n",
    "    score_series = pd.Series(similar_review[idx]).sort_values(ascending = False)\n",
    "\n",
    "    # Getting the indices of 10 most similar businesses\n",
    "    top_10_indexes = list(score_series.iloc[1 : 11].index)\n",
    "    \n",
    "    # Let us print the top_10_indexes\n",
    "    print(top_10_indexes)\n",
    "    \n",
    "    # populating the list with the titles of the best 10 matching businesses\n",
    "    for i in top_10_indexes:\n",
    "        recommended_businesses.append(list(reviews_small.index)[i])\n",
    "        \n",
    "    return recommended_businesses"
   ]
  },
  {
   "cell_type": "code",
   "execution_count": 92,
   "metadata": {
    "colab": {
     "base_uri": "https://localhost:8080/"
    },
    "id": "0uHA6IebmRoy",
    "outputId": "a9e51aad-63b4-4a65-eb1a-7cc830b83884"
   },
   "outputs": [
    {
     "name": "stdout",
     "output_type": "stream",
     "text": [
      "[555, 741, 869, 660, 479, 696, 411, 171, 464, 158]\n"
     ]
    },
    {
     "data": {
      "text/plain": [
       "['Strange Bird',\n",
       " \"Bertucci's Italian Restaurant\",\n",
       " \"Dmac's Bar & Grill\",\n",
       " \"Montgomery's Grill & Saloon\",\n",
       " \"Sam's Silver Circle Bar\",\n",
       " 'Music City Tippler',\n",
       " 'Mermaid Tavern',\n",
       " 'Castle Bake',\n",
       " 'Ijji Sushi',\n",
       " 'The Moon Under Water']"
      ]
     },
     "execution_count": 92,
     "metadata": {},
     "output_type": "execute_result"
    }
   ],
   "source": [
    "# Implement the recommendations function\n",
    "recommendations(\"Joclyn's\", similar_review)"
   ]
  },
  {
   "cell_type": "code",
   "execution_count": 95,
   "metadata": {},
   "outputs": [
    {
     "name": "stdout",
     "output_type": "stream",
     "text": [
      "Ratings of the restaurants:\n",
      "                         business_name  stars\n",
      "1243926           The Moon Under Water    2.0\n",
      "2393465                    Castle Bake    4.0\n",
      "3770267                 Mermaid Tavern    4.0\n",
      "1268847                     Ijji Sushi    1.0\n",
      "2521831        Sam's Silver Circle Bar    4.0\n",
      "1990949                   Strange Bird    4.0\n",
      "928860     Montgomery's Grill & Saloon    3.0\n",
      "4649156             Music City Tippler    5.0\n",
      "4515741  Bertucci's Italian Restaurant    4.0\n",
      "4523799             Dmac's Bar & Grill    5.0\n"
     ]
    }
   ],
   "source": [
    "# List of restaurant names\n",
    "restaurant_names = ['Strange Bird', \"Bertucci's Italian Restaurant\", \"Dmac's Bar & Grill\", \"Montgomery's Grill & Saloon\", \"Sam's Silver Circle Bar\", 'Music City Tippler', 'Mermaid Tavern', 'Castle Bake', 'Ijji Sushi', 'The Moon Under Water']\n",
    "\n",
    "# Filter the dataset for the restaurants in the list\n",
    "filtered_restaurants = reviews_subset[reviews_subset['business_name'].isin(restaurant_names)]\n",
    "\n",
    "# Get the ratings of the filtered restaurants\n",
    "restaurant_ratings = filtered_restaurants[['business_name', 'stars']]\n",
    "\n",
    "# Print the ratings\n",
    "print(\"Ratings of the restaurants:\")\n",
    "print(restaurant_ratings)"
   ]
  },
  {
   "cell_type": "markdown",
   "metadata": {
    "id": "16Q96E2a2-yR"
   },
   "source": [
    "- The **Dmac's Bar & Grill and Music City Tippler** is a top-rated restaurants in the subset reviews_small and the majority of our recommendations are restaurants with 4 or 5 stars which implies that the resulting recommendation system is working well."
   ]
  },
  {
   "cell_type": "markdown",
   "metadata": {
    "id": "zM138dV42-yR"
   },
   "source": [
    "### **Conclusion**"
   ]
  },
  {
   "cell_type": "markdown",
   "metadata": {
    "id": "sGuJRhJ7mRoy"
   },
   "source": [
    "In this notebook, we have seen below recommendation techniques: \n",
    "- **Clustering based recommendation systems**\n",
    "- **Content based recommendation systems**\n",
    "\n",
    "We can further combine all the recommendation techniques we have see so far to create a hybrid recommendation system."
   ]
  }
 ],
 "metadata": {
  "colab": {
   "include_colab_link": true,
   "provenance": []
  },
  "kernelspec": {
   "display_name": "Python 3 (ipykernel)",
   "language": "python",
   "name": "python3"
  },
  "language_info": {
   "codemirror_mode": {
    "name": "ipython",
    "version": 3
   },
   "file_extension": ".py",
   "mimetype": "text/x-python",
   "name": "python",
   "nbconvert_exporter": "python",
   "pygments_lexer": "ipython3",
   "version": "3.9.12"
  }
 },
 "nbformat": 4,
 "nbformat_minor": 1
}
